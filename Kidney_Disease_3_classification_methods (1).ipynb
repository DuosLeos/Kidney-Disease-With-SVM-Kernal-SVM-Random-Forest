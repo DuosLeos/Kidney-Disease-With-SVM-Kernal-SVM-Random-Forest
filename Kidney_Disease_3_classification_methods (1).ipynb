{
  "cells": [
    {
      "cell_type": "markdown",
      "metadata": {
        "papermill": {
          "duration": 0.041253,
          "end_time": "2021-01-08T12:19:42.470496",
          "exception": false,
          "start_time": "2021-01-08T12:19:42.429243",
          "status": "completed"
        },
        "tags": [],
        "id": "mc3YqApP1XLX"
      },
      "source": [
        "## Load Module dan helper function"
      ]
    },
    {
      "cell_type": "code",
      "execution_count": null,
      "metadata": {
        "execution": {
          "iopub.execute_input": "2021-01-08T12:19:42.563119Z",
          "iopub.status.busy": "2021-01-08T12:19:42.562393Z",
          "iopub.status.idle": "2021-01-08T12:19:44.092267Z",
          "shell.execute_reply": "2021-01-08T12:19:44.091521Z"
        },
        "papermill": {
          "duration": 1.580024,
          "end_time": "2021-01-08T12:19:44.092385",
          "exception": false,
          "start_time": "2021-01-08T12:19:42.512361",
          "status": "completed"
        },
        "tags": [],
        "id": "_xyqaXr51XLY"
      },
      "outputs": [],
      "source": [
        "#import Library\n",
        "import numpy as np\n",
        "import pandas as pd\n",
        "import matplotlib.pyplot as plt\n",
        "import seaborn as sns\n",
        "from sklearn.model_selection import train_test_split, GridSearchCV\n",
        "from sklearn.preprocessing import StandardScaler\n",
        "from sklearn.metrics import accuracy_score\n",
        "from sklearn.metrics import confusion_matrix\n",
        "from sklearn.tree import DecisionTreeClassifier\n",
        "from sklearn.svm import SVC\n",
        "from sklearn.ensemble import RandomForestClassifier\n",
        "from sklearn.model_selection import train_test_split\n",
        "from sklearn.metrics import roc_curve, auc, confusion_matrix, classification_report,accuracy_score"
      ]
    },
    {
      "cell_type": "code",
      "execution_count": null,
      "metadata": {
        "_cell_guid": "79c7e3d0-c299-4dcb-8224-4455121ee9b0",
        "_uuid": "d629ff2d2480ee46fbb7e2d37f6b5fab8052498a",
        "execution": {
          "iopub.execute_input": "2021-01-08T12:19:44.182791Z",
          "iopub.status.busy": "2021-01-08T12:19:44.182048Z",
          "iopub.status.idle": "2021-01-08T12:19:44.201433Z",
          "shell.execute_reply": "2021-01-08T12:19:44.201956Z"
        },
        "papermill": {
          "duration": 0.067853,
          "end_time": "2021-01-08T12:19:44.202269",
          "exception": false,
          "start_time": "2021-01-08T12:19:44.134416",
          "status": "completed"
        },
        "tags": [],
        "colab": {
          "base_uri": "https://localhost:8080/",
          "height": 235
        },
        "id": "uoISoUIq1XLY",
        "outputId": "8ede1297-bfba-4728-941d-8e53333393c7"
      },
      "outputs": [
        {
          "output_type": "execute_result",
          "data": {
            "text/plain": [
              "   id   age    bp     sg   al   su     rbc        pc         pcc          ba  \\\n",
              "0   0  48.0  80.0  1.020  1.0  0.0     NaN    normal  notpresent  notpresent   \n",
              "1   1   7.0  50.0  1.020  4.0  0.0     NaN    normal  notpresent  notpresent   \n",
              "2   2  62.0  80.0  1.010  2.0  3.0  normal    normal  notpresent  notpresent   \n",
              "3   3  48.0  70.0  1.005  4.0  0.0  normal  abnormal     present  notpresent   \n",
              "4   4  51.0  80.0  1.010  2.0  0.0  normal    normal  notpresent  notpresent   \n",
              "\n",
              "   ...  pcv    wc   rc  htn   dm  cad appet   pe  ane classification  \n",
              "0  ...   44  7800  5.2  yes  yes   no  good   no   no            ckd  \n",
              "1  ...   38  6000  NaN   no   no   no  good   no   no            ckd  \n",
              "2  ...   31  7500  NaN   no  yes   no  poor   no  yes            ckd  \n",
              "3  ...   32  6700  3.9  yes   no   no  poor  yes  yes            ckd  \n",
              "4  ...   35  7300  4.6   no   no   no  good   no   no            ckd  \n",
              "\n",
              "[5 rows x 26 columns]"
            ],
            "text/html": [
              "\n",
              "  <div id=\"df-8b665684-71c1-4383-ac12-1b07203008ac\">\n",
              "    <div class=\"colab-df-container\">\n",
              "      <div>\n",
              "<style scoped>\n",
              "    .dataframe tbody tr th:only-of-type {\n",
              "        vertical-align: middle;\n",
              "    }\n",
              "\n",
              "    .dataframe tbody tr th {\n",
              "        vertical-align: top;\n",
              "    }\n",
              "\n",
              "    .dataframe thead th {\n",
              "        text-align: right;\n",
              "    }\n",
              "</style>\n",
              "<table border=\"1\" class=\"dataframe\">\n",
              "  <thead>\n",
              "    <tr style=\"text-align: right;\">\n",
              "      <th></th>\n",
              "      <th>id</th>\n",
              "      <th>age</th>\n",
              "      <th>bp</th>\n",
              "      <th>sg</th>\n",
              "      <th>al</th>\n",
              "      <th>su</th>\n",
              "      <th>rbc</th>\n",
              "      <th>pc</th>\n",
              "      <th>pcc</th>\n",
              "      <th>ba</th>\n",
              "      <th>...</th>\n",
              "      <th>pcv</th>\n",
              "      <th>wc</th>\n",
              "      <th>rc</th>\n",
              "      <th>htn</th>\n",
              "      <th>dm</th>\n",
              "      <th>cad</th>\n",
              "      <th>appet</th>\n",
              "      <th>pe</th>\n",
              "      <th>ane</th>\n",
              "      <th>classification</th>\n",
              "    </tr>\n",
              "  </thead>\n",
              "  <tbody>\n",
              "    <tr>\n",
              "      <th>0</th>\n",
              "      <td>0</td>\n",
              "      <td>48.0</td>\n",
              "      <td>80.0</td>\n",
              "      <td>1.020</td>\n",
              "      <td>1.0</td>\n",
              "      <td>0.0</td>\n",
              "      <td>NaN</td>\n",
              "      <td>normal</td>\n",
              "      <td>notpresent</td>\n",
              "      <td>notpresent</td>\n",
              "      <td>...</td>\n",
              "      <td>44</td>\n",
              "      <td>7800</td>\n",
              "      <td>5.2</td>\n",
              "      <td>yes</td>\n",
              "      <td>yes</td>\n",
              "      <td>no</td>\n",
              "      <td>good</td>\n",
              "      <td>no</td>\n",
              "      <td>no</td>\n",
              "      <td>ckd</td>\n",
              "    </tr>\n",
              "    <tr>\n",
              "      <th>1</th>\n",
              "      <td>1</td>\n",
              "      <td>7.0</td>\n",
              "      <td>50.0</td>\n",
              "      <td>1.020</td>\n",
              "      <td>4.0</td>\n",
              "      <td>0.0</td>\n",
              "      <td>NaN</td>\n",
              "      <td>normal</td>\n",
              "      <td>notpresent</td>\n",
              "      <td>notpresent</td>\n",
              "      <td>...</td>\n",
              "      <td>38</td>\n",
              "      <td>6000</td>\n",
              "      <td>NaN</td>\n",
              "      <td>no</td>\n",
              "      <td>no</td>\n",
              "      <td>no</td>\n",
              "      <td>good</td>\n",
              "      <td>no</td>\n",
              "      <td>no</td>\n",
              "      <td>ckd</td>\n",
              "    </tr>\n",
              "    <tr>\n",
              "      <th>2</th>\n",
              "      <td>2</td>\n",
              "      <td>62.0</td>\n",
              "      <td>80.0</td>\n",
              "      <td>1.010</td>\n",
              "      <td>2.0</td>\n",
              "      <td>3.0</td>\n",
              "      <td>normal</td>\n",
              "      <td>normal</td>\n",
              "      <td>notpresent</td>\n",
              "      <td>notpresent</td>\n",
              "      <td>...</td>\n",
              "      <td>31</td>\n",
              "      <td>7500</td>\n",
              "      <td>NaN</td>\n",
              "      <td>no</td>\n",
              "      <td>yes</td>\n",
              "      <td>no</td>\n",
              "      <td>poor</td>\n",
              "      <td>no</td>\n",
              "      <td>yes</td>\n",
              "      <td>ckd</td>\n",
              "    </tr>\n",
              "    <tr>\n",
              "      <th>3</th>\n",
              "      <td>3</td>\n",
              "      <td>48.0</td>\n",
              "      <td>70.0</td>\n",
              "      <td>1.005</td>\n",
              "      <td>4.0</td>\n",
              "      <td>0.0</td>\n",
              "      <td>normal</td>\n",
              "      <td>abnormal</td>\n",
              "      <td>present</td>\n",
              "      <td>notpresent</td>\n",
              "      <td>...</td>\n",
              "      <td>32</td>\n",
              "      <td>6700</td>\n",
              "      <td>3.9</td>\n",
              "      <td>yes</td>\n",
              "      <td>no</td>\n",
              "      <td>no</td>\n",
              "      <td>poor</td>\n",
              "      <td>yes</td>\n",
              "      <td>yes</td>\n",
              "      <td>ckd</td>\n",
              "    </tr>\n",
              "    <tr>\n",
              "      <th>4</th>\n",
              "      <td>4</td>\n",
              "      <td>51.0</td>\n",
              "      <td>80.0</td>\n",
              "      <td>1.010</td>\n",
              "      <td>2.0</td>\n",
              "      <td>0.0</td>\n",
              "      <td>normal</td>\n",
              "      <td>normal</td>\n",
              "      <td>notpresent</td>\n",
              "      <td>notpresent</td>\n",
              "      <td>...</td>\n",
              "      <td>35</td>\n",
              "      <td>7300</td>\n",
              "      <td>4.6</td>\n",
              "      <td>no</td>\n",
              "      <td>no</td>\n",
              "      <td>no</td>\n",
              "      <td>good</td>\n",
              "      <td>no</td>\n",
              "      <td>no</td>\n",
              "      <td>ckd</td>\n",
              "    </tr>\n",
              "  </tbody>\n",
              "</table>\n",
              "<p>5 rows × 26 columns</p>\n",
              "</div>\n",
              "      <button class=\"colab-df-convert\" onclick=\"convertToInteractive('df-8b665684-71c1-4383-ac12-1b07203008ac')\"\n",
              "              title=\"Convert this dataframe to an interactive table.\"\n",
              "              style=\"display:none;\">\n",
              "        \n",
              "  <svg xmlns=\"http://www.w3.org/2000/svg\" height=\"24px\"viewBox=\"0 0 24 24\"\n",
              "       width=\"24px\">\n",
              "    <path d=\"M0 0h24v24H0V0z\" fill=\"none\"/>\n",
              "    <path d=\"M18.56 5.44l.94 2.06.94-2.06 2.06-.94-2.06-.94-.94-2.06-.94 2.06-2.06.94zm-11 1L8.5 8.5l.94-2.06 2.06-.94-2.06-.94L8.5 2.5l-.94 2.06-2.06.94zm10 10l.94 2.06.94-2.06 2.06-.94-2.06-.94-.94-2.06-.94 2.06-2.06.94z\"/><path d=\"M17.41 7.96l-1.37-1.37c-.4-.4-.92-.59-1.43-.59-.52 0-1.04.2-1.43.59L10.3 9.45l-7.72 7.72c-.78.78-.78 2.05 0 2.83L4 21.41c.39.39.9.59 1.41.59.51 0 1.02-.2 1.41-.59l7.78-7.78 2.81-2.81c.8-.78.8-2.07 0-2.86zM5.41 20L4 18.59l7.72-7.72 1.47 1.35L5.41 20z\"/>\n",
              "  </svg>\n",
              "      </button>\n",
              "      \n",
              "  <style>\n",
              "    .colab-df-container {\n",
              "      display:flex;\n",
              "      flex-wrap:wrap;\n",
              "      gap: 12px;\n",
              "    }\n",
              "\n",
              "    .colab-df-convert {\n",
              "      background-color: #E8F0FE;\n",
              "      border: none;\n",
              "      border-radius: 50%;\n",
              "      cursor: pointer;\n",
              "      display: none;\n",
              "      fill: #1967D2;\n",
              "      height: 32px;\n",
              "      padding: 0 0 0 0;\n",
              "      width: 32px;\n",
              "    }\n",
              "\n",
              "    .colab-df-convert:hover {\n",
              "      background-color: #E2EBFA;\n",
              "      box-shadow: 0px 1px 2px rgba(60, 64, 67, 0.3), 0px 1px 3px 1px rgba(60, 64, 67, 0.15);\n",
              "      fill: #174EA6;\n",
              "    }\n",
              "\n",
              "    [theme=dark] .colab-df-convert {\n",
              "      background-color: #3B4455;\n",
              "      fill: #D2E3FC;\n",
              "    }\n",
              "\n",
              "    [theme=dark] .colab-df-convert:hover {\n",
              "      background-color: #434B5C;\n",
              "      box-shadow: 0px 1px 3px 1px rgba(0, 0, 0, 0.15);\n",
              "      filter: drop-shadow(0px 1px 2px rgba(0, 0, 0, 0.3));\n",
              "      fill: #FFFFFF;\n",
              "    }\n",
              "  </style>\n",
              "\n",
              "      <script>\n",
              "        const buttonEl =\n",
              "          document.querySelector('#df-8b665684-71c1-4383-ac12-1b07203008ac button.colab-df-convert');\n",
              "        buttonEl.style.display =\n",
              "          google.colab.kernel.accessAllowed ? 'block' : 'none';\n",
              "\n",
              "        async function convertToInteractive(key) {\n",
              "          const element = document.querySelector('#df-8b665684-71c1-4383-ac12-1b07203008ac');\n",
              "          const dataTable =\n",
              "            await google.colab.kernel.invokeFunction('convertToInteractive',\n",
              "                                                     [key], {});\n",
              "          if (!dataTable) return;\n",
              "\n",
              "          const docLinkHtml = 'Like what you see? Visit the ' +\n",
              "            '<a target=\"_blank\" href=https://colab.research.google.com/notebooks/data_table.ipynb>data table notebook</a>'\n",
              "            + ' to learn more about interactive tables.';\n",
              "          element.innerHTML = '';\n",
              "          dataTable['output_type'] = 'display_data';\n",
              "          await google.colab.output.renderOutput(dataTable, element);\n",
              "          const docLink = document.createElement('div');\n",
              "          docLink.innerHTML = docLinkHtml;\n",
              "          element.appendChild(docLink);\n",
              "        }\n",
              "      </script>\n",
              "    </div>\n",
              "  </div>\n",
              "  "
            ]
          },
          "metadata": {},
          "execution_count": 2
        }
      ],
      "source": [
        "#Mengimport Dataset kidney disease\n",
        "dataset = pd.read_csv('kidney_disease.csv')\n",
        "dataset.head()"
      ]
    },
    {
      "cell_type": "code",
      "execution_count": null,
      "metadata": {
        "execution": {
          "iopub.execute_input": "2021-01-08T12:19:44.425120Z",
          "iopub.status.busy": "2021-01-08T12:19:44.424226Z",
          "iopub.status.idle": "2021-01-08T12:19:44.429118Z",
          "shell.execute_reply": "2021-01-08T12:19:44.428321Z"
        },
        "papermill": {
          "duration": 0.053252,
          "end_time": "2021-01-08T12:19:44.429237",
          "exception": false,
          "start_time": "2021-01-08T12:19:44.375985",
          "status": "completed"
        },
        "tags": [],
        "colab": {
          "base_uri": "https://localhost:8080/"
        },
        "id": "-zOsajPT1XLY",
        "outputId": "a4746d55-8a4a-4078-a906-2deca95d1bfc"
      },
      "outputs": [
        {
          "output_type": "execute_result",
          "data": {
            "text/plain": [
              "(400, 26)"
            ]
          },
          "metadata": {},
          "execution_count": 4
        }
      ],
      "source": [
        "dataset.shape"
      ]
    },
    {
      "cell_type": "code",
      "execution_count": null,
      "metadata": {
        "execution": {
          "iopub.execute_input": "2021-01-08T12:19:44.524343Z",
          "iopub.status.busy": "2021-01-08T12:19:44.523542Z",
          "iopub.status.idle": "2021-01-08T12:19:44.527921Z",
          "shell.execute_reply": "2021-01-08T12:19:44.529069Z"
        },
        "papermill": {
          "duration": 0.056339,
          "end_time": "2021-01-08T12:19:44.529216",
          "exception": false,
          "start_time": "2021-01-08T12:19:44.472877",
          "status": "completed"
        },
        "tags": [],
        "colab": {
          "base_uri": "https://localhost:8080/"
        },
        "id": "NaxRzfE21XLZ",
        "outputId": "f8bed4f6-9272-4e53-9379-ea607a87dd9c"
      },
      "outputs": [
        {
          "output_type": "execute_result",
          "data": {
            "text/plain": [
              "id                  int64\n",
              "age               float64\n",
              "bp                float64\n",
              "sg                float64\n",
              "al                float64\n",
              "su                float64\n",
              "rbc                object\n",
              "pc                 object\n",
              "pcc                object\n",
              "ba                 object\n",
              "bgr               float64\n",
              "bu                float64\n",
              "sc                float64\n",
              "sod               float64\n",
              "pot               float64\n",
              "hemo              float64\n",
              "pcv                object\n",
              "wc                 object\n",
              "rc                 object\n",
              "htn                object\n",
              "dm                 object\n",
              "cad                object\n",
              "appet              object\n",
              "pe                 object\n",
              "ane                object\n",
              "classification     object\n",
              "dtype: object"
            ]
          },
          "metadata": {},
          "execution_count": 5
        }
      ],
      "source": [
        "dataset.dtypes"
      ]
    },
    {
      "cell_type": "code",
      "source": [
        "# Hitung mean age\n",
        "mean_age = dataset['age'].mean()\n",
        "\n",
        "# Hitung mode age\n",
        "modus_age = dataset['age'].mode()[0]\n",
        "\n",
        "# Hitung median age\n",
        "median_age = dataset['age'].median()\n",
        "\n",
        "# Hitung first quartile age\n",
        "q1_age = dataset['age'].quantile(0.25)\n",
        "\n",
        "# Hitung third quartile age\n",
        "q3_age = dataset['age'].quantile(0.75)\n",
        "\n",
        "# Hitung standard deviation of age\n",
        "std_dev = dataset['age'].std()\n",
        "\n",
        "# Hitung variance of age\n",
        "variance = dataset['age'].var()\n",
        "\n",
        "# descriptive statistics\n",
        "print('Mean age:', mean_age)\n",
        "print('Modus age:', modus_age)\n",
        "print('Median age:', median_age)\n",
        "print('First quartile age:', q1_age)\n",
        "print('Third quartile age:', q3_age)\n",
        "print('Standard deviation:', std_dev)\n",
        "print('Variance:', variance)"
      ],
      "metadata": {
        "colab": {
          "base_uri": "https://localhost:8080/"
        },
        "id": "yWbWHuw861uR",
        "outputId": "e9935960-e480-4e19-f0bb-5bb5367be1a3"
      },
      "execution_count": null,
      "outputs": [
        {
          "output_type": "stream",
          "name": "stdout",
          "text": [
            "Mean age: 51.48337595907928\n",
            "Modus age: 60.0\n",
            "Median age: 55.0\n",
            "First quartile age: 42.0\n",
            "Third quartile age: 64.5\n",
            "Standard deviation: 17.16971408926224\n",
            "Variance: 294.7990819070103\n"
          ]
        }
      ]
    },
    {
      "cell_type": "markdown",
      "metadata": {
        "papermill": {
          "duration": 0.042996,
          "end_time": "2021-01-08T12:19:44.618039",
          "exception": false,
          "start_time": "2021-01-08T12:19:44.575043",
          "status": "completed"
        },
        "tags": [],
        "id": "sbRwdAcC1XLZ"
      },
      "source": [
        "### Cleaning and preprocessing of data for training"
      ]
    },
    {
      "cell_type": "code",
      "execution_count": null,
      "metadata": {
        "execution": {
          "iopub.execute_input": "2021-01-08T12:19:44.714009Z",
          "iopub.status.busy": "2021-01-08T12:19:44.713292Z",
          "iopub.status.idle": "2021-01-08T12:19:44.736856Z",
          "shell.execute_reply": "2021-01-08T12:19:44.736236Z"
        },
        "papermill": {
          "duration": 0.075021,
          "end_time": "2021-01-08T12:19:44.736982",
          "exception": false,
          "start_time": "2021-01-08T12:19:44.661961",
          "status": "completed"
        },
        "tags": [],
        "id": "SkC2qulr1XLZ"
      },
      "outputs": [],
      "source": [
        "# Ganti yes dengan 1 dan no dengan 0 untuk kolom htn, dm, cad, pe, dan ane.\n",
        "dataset[['htn','dm','cad','pe','ane']] = dataset[['htn','dm','cad','pe','ane']].replace({'yes': 1, 'no': 0})\n",
        "\n",
        "# Ganti abnormal dengan 1 dan normal dengan 0 untuk kolom rbc dan pc.\n",
        "dataset[['rbc','pc']] = dataset[['rbc','pc']].replace({'abnormal': 1, 'normal': 0})\n",
        "\n",
        "# Ganti sekarang dengan 1 dan tidak hadir dengan 0 untuk kolom pcc dan ba.\n",
        "dataset[['pcc','ba']] = dataset[['pcc','ba']].replace({'present': 1, 'notpresent': 0})\n",
        "\n",
        "# Ganti baik dengan 1, buruk dengan 0, dan tidak dengan NaN untuk kolom selera.\n",
        "dataset[['appet']] = dataset[['appet']].replace({'good': 1, 'poor': 0, 'no': np.nan})\n",
        "\n",
        "# Ganti ckd, ckd\\t, notckd, dan no dengan 1, 1, 0, dan 0 untuk kolom klasifikasi.\n",
        "dataset['classification'] = dataset['classification'].replace({'ckd': 1, 'ckd\\t': 1, 'notckd': 0, 'no': 0})\n",
        "\n",
        "# Ubah nama kolom klasifikasi menjadi kelas.\n",
        "dataset.rename(columns={'classification': 'class'}, inplace=True)\n"
      ]
    },
    {
      "cell_type": "code",
      "execution_count": null,
      "metadata": {
        "execution": {
          "iopub.execute_input": "2021-01-08T12:19:44.839889Z",
          "iopub.status.busy": "2021-01-08T12:19:44.838781Z",
          "iopub.status.idle": "2021-01-08T12:19:44.843749Z",
          "shell.execute_reply": "2021-01-08T12:19:44.842994Z"
        },
        "papermill": {
          "duration": 0.063224,
          "end_time": "2021-01-08T12:19:44.843872",
          "exception": false,
          "start_time": "2021-01-08T12:19:44.780648",
          "status": "completed"
        },
        "tags": [],
        "id": "yMjOfTL81XLZ"
      },
      "outputs": [],
      "source": [
        "#Cleaning Lanjutan\n",
        "dataset = dataset.replace({\n",
        "    'pe': {'good': 0},\n",
        "    'appet': {'no': 0},\n",
        "    'cad': {'\\tno': 0},\n",
        "    'dm': {'\\tno': 0, '\\tyes': 1, ' yes': 1},\n",
        "})\n",
        "dataset.drop('id', axis=1, inplace=True)"
      ]
    },
    {
      "cell_type": "code",
      "execution_count": null,
      "metadata": {
        "execution": {
          "iopub.execute_input": "2021-01-08T12:19:44.960514Z",
          "iopub.status.busy": "2021-01-08T12:19:44.947071Z",
          "iopub.status.idle": "2021-01-08T12:19:44.965803Z",
          "shell.execute_reply": "2021-01-08T12:19:44.965104Z"
        },
        "papermill": {
          "duration": 0.078108,
          "end_time": "2021-01-08T12:19:44.965929",
          "exception": false,
          "start_time": "2021-01-08T12:19:44.887821",
          "status": "completed"
        },
        "tags": [],
        "colab": {
          "base_uri": "https://localhost:8080/",
          "height": 299
        },
        "id": "2PQwZzo51XLZ",
        "outputId": "d5b38584-4eb9-40d2-d63d-deb98f07c693"
      },
      "outputs": [
        {
          "output_type": "execute_result",
          "data": {
            "text/plain": [
              "    age    bp     sg   al   su  rbc   pc  pcc   ba    bgr  ...  pcv    wc  \\\n",
              "0  48.0  80.0  1.020  1.0  0.0  NaN  0.0  0.0  0.0  121.0  ...   44  7800   \n",
              "1   7.0  50.0  1.020  4.0  0.0  NaN  0.0  0.0  0.0    NaN  ...   38  6000   \n",
              "2  62.0  80.0  1.010  2.0  3.0  0.0  0.0  0.0  0.0  423.0  ...   31  7500   \n",
              "3  48.0  70.0  1.005  4.0  0.0  0.0  1.0  1.0  0.0  117.0  ...   32  6700   \n",
              "4  51.0  80.0  1.010  2.0  0.0  0.0  0.0  0.0  0.0  106.0  ...   35  7300   \n",
              "\n",
              "    rc  htn   dm  cad appet   pe  ane  class  \n",
              "0  5.2  1.0  1.0  0.0   1.0  0.0  0.0      1  \n",
              "1  NaN  0.0  0.0  0.0   1.0  0.0  0.0      1  \n",
              "2  NaN  0.0  1.0  0.0   0.0  0.0  1.0      1  \n",
              "3  3.9  1.0  0.0  0.0   0.0  1.0  1.0      1  \n",
              "4  4.6  0.0  0.0  0.0   1.0  0.0  0.0      1  \n",
              "\n",
              "[5 rows x 25 columns]"
            ],
            "text/html": [
              "\n",
              "  <div id=\"df-05878a71-046a-4e68-9e7c-d14e34e66a1b\">\n",
              "    <div class=\"colab-df-container\">\n",
              "      <div>\n",
              "<style scoped>\n",
              "    .dataframe tbody tr th:only-of-type {\n",
              "        vertical-align: middle;\n",
              "    }\n",
              "\n",
              "    .dataframe tbody tr th {\n",
              "        vertical-align: top;\n",
              "    }\n",
              "\n",
              "    .dataframe thead th {\n",
              "        text-align: right;\n",
              "    }\n",
              "</style>\n",
              "<table border=\"1\" class=\"dataframe\">\n",
              "  <thead>\n",
              "    <tr style=\"text-align: right;\">\n",
              "      <th></th>\n",
              "      <th>age</th>\n",
              "      <th>bp</th>\n",
              "      <th>sg</th>\n",
              "      <th>al</th>\n",
              "      <th>su</th>\n",
              "      <th>rbc</th>\n",
              "      <th>pc</th>\n",
              "      <th>pcc</th>\n",
              "      <th>ba</th>\n",
              "      <th>bgr</th>\n",
              "      <th>...</th>\n",
              "      <th>pcv</th>\n",
              "      <th>wc</th>\n",
              "      <th>rc</th>\n",
              "      <th>htn</th>\n",
              "      <th>dm</th>\n",
              "      <th>cad</th>\n",
              "      <th>appet</th>\n",
              "      <th>pe</th>\n",
              "      <th>ane</th>\n",
              "      <th>class</th>\n",
              "    </tr>\n",
              "  </thead>\n",
              "  <tbody>\n",
              "    <tr>\n",
              "      <th>0</th>\n",
              "      <td>48.0</td>\n",
              "      <td>80.0</td>\n",
              "      <td>1.020</td>\n",
              "      <td>1.0</td>\n",
              "      <td>0.0</td>\n",
              "      <td>NaN</td>\n",
              "      <td>0.0</td>\n",
              "      <td>0.0</td>\n",
              "      <td>0.0</td>\n",
              "      <td>121.0</td>\n",
              "      <td>...</td>\n",
              "      <td>44</td>\n",
              "      <td>7800</td>\n",
              "      <td>5.2</td>\n",
              "      <td>1.0</td>\n",
              "      <td>1.0</td>\n",
              "      <td>0.0</td>\n",
              "      <td>1.0</td>\n",
              "      <td>0.0</td>\n",
              "      <td>0.0</td>\n",
              "      <td>1</td>\n",
              "    </tr>\n",
              "    <tr>\n",
              "      <th>1</th>\n",
              "      <td>7.0</td>\n",
              "      <td>50.0</td>\n",
              "      <td>1.020</td>\n",
              "      <td>4.0</td>\n",
              "      <td>0.0</td>\n",
              "      <td>NaN</td>\n",
              "      <td>0.0</td>\n",
              "      <td>0.0</td>\n",
              "      <td>0.0</td>\n",
              "      <td>NaN</td>\n",
              "      <td>...</td>\n",
              "      <td>38</td>\n",
              "      <td>6000</td>\n",
              "      <td>NaN</td>\n",
              "      <td>0.0</td>\n",
              "      <td>0.0</td>\n",
              "      <td>0.0</td>\n",
              "      <td>1.0</td>\n",
              "      <td>0.0</td>\n",
              "      <td>0.0</td>\n",
              "      <td>1</td>\n",
              "    </tr>\n",
              "    <tr>\n",
              "      <th>2</th>\n",
              "      <td>62.0</td>\n",
              "      <td>80.0</td>\n",
              "      <td>1.010</td>\n",
              "      <td>2.0</td>\n",
              "      <td>3.0</td>\n",
              "      <td>0.0</td>\n",
              "      <td>0.0</td>\n",
              "      <td>0.0</td>\n",
              "      <td>0.0</td>\n",
              "      <td>423.0</td>\n",
              "      <td>...</td>\n",
              "      <td>31</td>\n",
              "      <td>7500</td>\n",
              "      <td>NaN</td>\n",
              "      <td>0.0</td>\n",
              "      <td>1.0</td>\n",
              "      <td>0.0</td>\n",
              "      <td>0.0</td>\n",
              "      <td>0.0</td>\n",
              "      <td>1.0</td>\n",
              "      <td>1</td>\n",
              "    </tr>\n",
              "    <tr>\n",
              "      <th>3</th>\n",
              "      <td>48.0</td>\n",
              "      <td>70.0</td>\n",
              "      <td>1.005</td>\n",
              "      <td>4.0</td>\n",
              "      <td>0.0</td>\n",
              "      <td>0.0</td>\n",
              "      <td>1.0</td>\n",
              "      <td>1.0</td>\n",
              "      <td>0.0</td>\n",
              "      <td>117.0</td>\n",
              "      <td>...</td>\n",
              "      <td>32</td>\n",
              "      <td>6700</td>\n",
              "      <td>3.9</td>\n",
              "      <td>1.0</td>\n",
              "      <td>0.0</td>\n",
              "      <td>0.0</td>\n",
              "      <td>0.0</td>\n",
              "      <td>1.0</td>\n",
              "      <td>1.0</td>\n",
              "      <td>1</td>\n",
              "    </tr>\n",
              "    <tr>\n",
              "      <th>4</th>\n",
              "      <td>51.0</td>\n",
              "      <td>80.0</td>\n",
              "      <td>1.010</td>\n",
              "      <td>2.0</td>\n",
              "      <td>0.0</td>\n",
              "      <td>0.0</td>\n",
              "      <td>0.0</td>\n",
              "      <td>0.0</td>\n",
              "      <td>0.0</td>\n",
              "      <td>106.0</td>\n",
              "      <td>...</td>\n",
              "      <td>35</td>\n",
              "      <td>7300</td>\n",
              "      <td>4.6</td>\n",
              "      <td>0.0</td>\n",
              "      <td>0.0</td>\n",
              "      <td>0.0</td>\n",
              "      <td>1.0</td>\n",
              "      <td>0.0</td>\n",
              "      <td>0.0</td>\n",
              "      <td>1</td>\n",
              "    </tr>\n",
              "  </tbody>\n",
              "</table>\n",
              "<p>5 rows × 25 columns</p>\n",
              "</div>\n",
              "      <button class=\"colab-df-convert\" onclick=\"convertToInteractive('df-05878a71-046a-4e68-9e7c-d14e34e66a1b')\"\n",
              "              title=\"Convert this dataframe to an interactive table.\"\n",
              "              style=\"display:none;\">\n",
              "        \n",
              "  <svg xmlns=\"http://www.w3.org/2000/svg\" height=\"24px\"viewBox=\"0 0 24 24\"\n",
              "       width=\"24px\">\n",
              "    <path d=\"M0 0h24v24H0V0z\" fill=\"none\"/>\n",
              "    <path d=\"M18.56 5.44l.94 2.06.94-2.06 2.06-.94-2.06-.94-.94-2.06-.94 2.06-2.06.94zm-11 1L8.5 8.5l.94-2.06 2.06-.94-2.06-.94L8.5 2.5l-.94 2.06-2.06.94zm10 10l.94 2.06.94-2.06 2.06-.94-2.06-.94-.94-2.06-.94 2.06-2.06.94z\"/><path d=\"M17.41 7.96l-1.37-1.37c-.4-.4-.92-.59-1.43-.59-.52 0-1.04.2-1.43.59L10.3 9.45l-7.72 7.72c-.78.78-.78 2.05 0 2.83L4 21.41c.39.39.9.59 1.41.59.51 0 1.02-.2 1.41-.59l7.78-7.78 2.81-2.81c.8-.78.8-2.07 0-2.86zM5.41 20L4 18.59l7.72-7.72 1.47 1.35L5.41 20z\"/>\n",
              "  </svg>\n",
              "      </button>\n",
              "      \n",
              "  <style>\n",
              "    .colab-df-container {\n",
              "      display:flex;\n",
              "      flex-wrap:wrap;\n",
              "      gap: 12px;\n",
              "    }\n",
              "\n",
              "    .colab-df-convert {\n",
              "      background-color: #E8F0FE;\n",
              "      border: none;\n",
              "      border-radius: 50%;\n",
              "      cursor: pointer;\n",
              "      display: none;\n",
              "      fill: #1967D2;\n",
              "      height: 32px;\n",
              "      padding: 0 0 0 0;\n",
              "      width: 32px;\n",
              "    }\n",
              "\n",
              "    .colab-df-convert:hover {\n",
              "      background-color: #E2EBFA;\n",
              "      box-shadow: 0px 1px 2px rgba(60, 64, 67, 0.3), 0px 1px 3px 1px rgba(60, 64, 67, 0.15);\n",
              "      fill: #174EA6;\n",
              "    }\n",
              "\n",
              "    [theme=dark] .colab-df-convert {\n",
              "      background-color: #3B4455;\n",
              "      fill: #D2E3FC;\n",
              "    }\n",
              "\n",
              "    [theme=dark] .colab-df-convert:hover {\n",
              "      background-color: #434B5C;\n",
              "      box-shadow: 0px 1px 3px 1px rgba(0, 0, 0, 0.15);\n",
              "      filter: drop-shadow(0px 1px 2px rgba(0, 0, 0, 0.3));\n",
              "      fill: #FFFFFF;\n",
              "    }\n",
              "  </style>\n",
              "\n",
              "      <script>\n",
              "        const buttonEl =\n",
              "          document.querySelector('#df-05878a71-046a-4e68-9e7c-d14e34e66a1b button.colab-df-convert');\n",
              "        buttonEl.style.display =\n",
              "          google.colab.kernel.accessAllowed ? 'block' : 'none';\n",
              "\n",
              "        async function convertToInteractive(key) {\n",
              "          const element = document.querySelector('#df-05878a71-046a-4e68-9e7c-d14e34e66a1b');\n",
              "          const dataTable =\n",
              "            await google.colab.kernel.invokeFunction('convertToInteractive',\n",
              "                                                     [key], {});\n",
              "          if (!dataTable) return;\n",
              "\n",
              "          const docLinkHtml = 'Like what you see? Visit the ' +\n",
              "            '<a target=\"_blank\" href=https://colab.research.google.com/notebooks/data_table.ipynb>data table notebook</a>'\n",
              "            + ' to learn more about interactive tables.';\n",
              "          element.innerHTML = '';\n",
              "          dataTable['output_type'] = 'display_data';\n",
              "          await google.colab.output.renderOutput(dataTable, element);\n",
              "          const docLink = document.createElement('div');\n",
              "          docLink.innerHTML = docLinkHtml;\n",
              "          element.appendChild(docLink);\n",
              "        }\n",
              "      </script>\n",
              "    </div>\n",
              "  </div>\n",
              "  "
            ]
          },
          "metadata": {},
          "execution_count": 9
        }
      ],
      "source": [
        "dataset.head()"
      ]
    },
    {
      "cell_type": "code",
      "execution_count": null,
      "metadata": {
        "execution": {
          "iopub.execute_input": "2021-01-08T12:19:45.062192Z",
          "iopub.status.busy": "2021-01-08T12:19:45.061189Z",
          "iopub.status.idle": "2021-01-08T12:19:45.072430Z",
          "shell.execute_reply": "2021-01-08T12:19:45.071739Z"
        },
        "papermill": {
          "duration": 0.062224,
          "end_time": "2021-01-08T12:19:45.072551",
          "exception": false,
          "start_time": "2021-01-08T12:19:45.010327",
          "status": "completed"
        },
        "tags": [],
        "id": "bfc6CXOw1XLZ"
      },
      "outputs": [],
      "source": [
        "#proses penghapusan karakter dalam dataset\n",
        "dataset = dataset.assign(\n",
        "    rc=dataset['rc'].str.extract('(\\d+)').astype(float),\n",
        "    wc=dataset['wc'].str.extract('(\\d+)').astype(float),\n",
        "    pcv=dataset['pcv'].str.extract('(\\d+)').astype(float),\n",
        ")\n"
      ]
    },
    {
      "cell_type": "code",
      "execution_count": null,
      "metadata": {
        "execution": {
          "iopub.execute_input": "2021-01-08T12:19:45.173757Z",
          "iopub.status.busy": "2021-01-08T12:19:45.172721Z",
          "iopub.status.idle": "2021-01-08T12:19:45.176909Z",
          "shell.execute_reply": "2021-01-08T12:19:45.176191Z"
        },
        "papermill": {
          "duration": 0.059537,
          "end_time": "2021-01-08T12:19:45.177038",
          "exception": false,
          "start_time": "2021-01-08T12:19:45.117501",
          "status": "completed"
        },
        "tags": [],
        "id": "MU_6I7q21XLa"
      },
      "outputs": [],
      "source": [
        "# Mengisi data numerik yang hilang dalam kumpulan data dengan rata-rata\n",
        "dataset.fillna(dataset.mean(), inplace=True)"
      ]
    },
    {
      "cell_type": "code",
      "execution_count": null,
      "metadata": {
        "execution": {
          "iopub.execute_input": "2021-01-08T12:19:45.276180Z",
          "iopub.status.busy": "2021-01-08T12:19:45.275368Z",
          "iopub.status.idle": "2021-01-08T12:19:45.280345Z",
          "shell.execute_reply": "2021-01-08T12:19:45.279683Z"
        },
        "papermill": {
          "duration": 0.058258,
          "end_time": "2021-01-08T12:19:45.280463",
          "exception": false,
          "start_time": "2021-01-08T12:19:45.222205",
          "status": "completed"
        },
        "tags": [],
        "colab": {
          "base_uri": "https://localhost:8080/"
        },
        "id": "6aGDU1RY1XLa",
        "outputId": "a760baeb-869a-4ac8-acc0-247177f74c3e"
      },
      "outputs": [
        {
          "output_type": "execute_result",
          "data": {
            "text/plain": [
              "age      0\n",
              "bp       0\n",
              "sg       0\n",
              "al       0\n",
              "su       0\n",
              "rbc      0\n",
              "pc       0\n",
              "pcc      0\n",
              "ba       0\n",
              "bgr      0\n",
              "bu       0\n",
              "sc       0\n",
              "sod      0\n",
              "pot      0\n",
              "hemo     0\n",
              "pcv      0\n",
              "wc       0\n",
              "rc       0\n",
              "htn      0\n",
              "dm       0\n",
              "cad      0\n",
              "appet    0\n",
              "pe       0\n",
              "ane      0\n",
              "class    0\n",
              "dtype: int64"
            ]
          },
          "metadata": {},
          "execution_count": 12
        }
      ],
      "source": [
        "dataset.isnull().sum()"
      ]
    },
    {
      "cell_type": "code",
      "execution_count": null,
      "metadata": {
        "execution": {
          "iopub.execute_input": "2021-01-08T12:19:45.378079Z",
          "iopub.status.busy": "2021-01-08T12:19:45.376178Z",
          "iopub.status.idle": "2021-01-08T12:19:45.403845Z",
          "shell.execute_reply": "2021-01-08T12:19:45.402425Z"
        },
        "papermill": {
          "duration": 0.078274,
          "end_time": "2021-01-08T12:19:45.403975",
          "exception": false,
          "start_time": "2021-01-08T12:19:45.325701",
          "status": "completed"
        },
        "tags": [],
        "id": "s_cXSHMj1XLa"
      },
      "outputs": [],
      "source": [
        "dataset = dataset.dropna(axis=1)"
      ]
    },
    {
      "cell_type": "code",
      "execution_count": null,
      "metadata": {
        "execution": {
          "iopub.execute_input": "2021-01-08T12:19:45.500370Z",
          "iopub.status.busy": "2021-01-08T12:19:45.499559Z",
          "iopub.status.idle": "2021-01-08T12:19:45.503601Z",
          "shell.execute_reply": "2021-01-08T12:19:45.502954Z"
        },
        "papermill": {
          "duration": 0.054529,
          "end_time": "2021-01-08T12:19:45.503715",
          "exception": false,
          "start_time": "2021-01-08T12:19:45.449186",
          "status": "completed"
        },
        "tags": [],
        "colab": {
          "base_uri": "https://localhost:8080/"
        },
        "id": "YE7HIhfT1XLa",
        "outputId": "409de1c3-b4bf-4047-c9e4-0f0c6a52c92c"
      },
      "outputs": [
        {
          "output_type": "execute_result",
          "data": {
            "text/plain": [
              "(400, 26)"
            ]
          },
          "metadata": {},
          "execution_count": 3
        }
      ],
      "source": [
        "dataset.shape"
      ]
    },
    {
      "cell_type": "code",
      "execution_count": null,
      "metadata": {
        "execution": {
          "iopub.execute_input": "2021-01-08T12:19:45.611672Z",
          "iopub.status.busy": "2021-01-08T12:19:45.610376Z",
          "iopub.status.idle": "2021-01-08T12:19:45.618365Z",
          "shell.execute_reply": "2021-01-08T12:19:45.619387Z"
        },
        "papermill": {
          "duration": 0.069893,
          "end_time": "2021-01-08T12:19:45.619650",
          "exception": false,
          "start_time": "2021-01-08T12:19:45.549757",
          "status": "completed"
        },
        "tags": [],
        "colab": {
          "base_uri": "https://localhost:8080/"
        },
        "id": "ETqEdh8M1XLa",
        "outputId": "5b744a21-ef05-4f3b-ecb1-db7e2955e603"
      },
      "outputs": [
        {
          "output_type": "execute_result",
          "data": {
            "text/plain": [
              "age      0\n",
              "bp       0\n",
              "sg       0\n",
              "al       0\n",
              "su       0\n",
              "rbc      0\n",
              "pc       0\n",
              "pcc      0\n",
              "ba       0\n",
              "bgr      0\n",
              "bu       0\n",
              "sc       0\n",
              "sod      0\n",
              "pot      0\n",
              "hemo     0\n",
              "pcv      0\n",
              "wc       0\n",
              "rc       0\n",
              "htn      0\n",
              "dm       0\n",
              "cad      0\n",
              "appet    0\n",
              "pe       0\n",
              "ane      0\n",
              "class    0\n",
              "dtype: int64"
            ]
          },
          "metadata": {},
          "execution_count": 14
        }
      ],
      "source": [
        "dataset.isnull().sum()"
      ]
    },
    {
      "cell_type": "code",
      "execution_count": null,
      "metadata": {
        "execution": {
          "iopub.execute_input": "2021-01-08T12:19:45.757675Z",
          "iopub.status.busy": "2021-01-08T12:19:45.756849Z",
          "iopub.status.idle": "2021-01-08T12:19:45.760298Z",
          "shell.execute_reply": "2021-01-08T12:19:45.760831Z"
        },
        "papermill": {
          "duration": 0.079233,
          "end_time": "2021-01-08T12:19:45.760976",
          "exception": false,
          "start_time": "2021-01-08T12:19:45.681743",
          "status": "completed"
        },
        "tags": [],
        "colab": {
          "base_uri": "https://localhost:8080/",
          "height": 299
        },
        "id": "njBjybA31XLa",
        "outputId": "0c80a2e8-4c8d-48bc-b6be-d10a663a9c62"
      },
      "outputs": [
        {
          "output_type": "execute_result",
          "data": {
            "text/plain": [
              "    age    bp     sg   al   su       rbc   pc  pcc   ba         bgr  ...  \\\n",
              "0  48.0  80.0  1.020  1.0  0.0  0.189516  0.0  0.0  0.0  121.000000  ...   \n",
              "1   7.0  50.0  1.020  4.0  0.0  0.189516  0.0  0.0  0.0  148.036517  ...   \n",
              "2  62.0  80.0  1.010  2.0  3.0  0.000000  0.0  0.0  0.0  423.000000  ...   \n",
              "3  48.0  70.0  1.005  4.0  0.0  0.000000  1.0  1.0  0.0  117.000000  ...   \n",
              "4  51.0  80.0  1.010  2.0  0.0  0.000000  0.0  0.0  0.0  106.000000  ...   \n",
              "\n",
              "    pcv      wc        rc  htn   dm  cad  appet   pe  ane  class  \n",
              "0  44.0  7800.0  5.000000  1.0  1.0  0.0    1.0  0.0  0.0      1  \n",
              "1  38.0  6000.0  4.241636  0.0  0.0  0.0    1.0  0.0  0.0      1  \n",
              "2  31.0  7500.0  4.241636  0.0  1.0  0.0    0.0  0.0  1.0      1  \n",
              "3  32.0  6700.0  3.000000  1.0  0.0  0.0    0.0  1.0  1.0      1  \n",
              "4  35.0  7300.0  4.000000  0.0  0.0  0.0    1.0  0.0  0.0      1  \n",
              "\n",
              "[5 rows x 25 columns]"
            ],
            "text/html": [
              "\n",
              "  <div id=\"df-6372cef1-21cd-4b75-92cb-52a119c91342\">\n",
              "    <div class=\"colab-df-container\">\n",
              "      <div>\n",
              "<style scoped>\n",
              "    .dataframe tbody tr th:only-of-type {\n",
              "        vertical-align: middle;\n",
              "    }\n",
              "\n",
              "    .dataframe tbody tr th {\n",
              "        vertical-align: top;\n",
              "    }\n",
              "\n",
              "    .dataframe thead th {\n",
              "        text-align: right;\n",
              "    }\n",
              "</style>\n",
              "<table border=\"1\" class=\"dataframe\">\n",
              "  <thead>\n",
              "    <tr style=\"text-align: right;\">\n",
              "      <th></th>\n",
              "      <th>age</th>\n",
              "      <th>bp</th>\n",
              "      <th>sg</th>\n",
              "      <th>al</th>\n",
              "      <th>su</th>\n",
              "      <th>rbc</th>\n",
              "      <th>pc</th>\n",
              "      <th>pcc</th>\n",
              "      <th>ba</th>\n",
              "      <th>bgr</th>\n",
              "      <th>...</th>\n",
              "      <th>pcv</th>\n",
              "      <th>wc</th>\n",
              "      <th>rc</th>\n",
              "      <th>htn</th>\n",
              "      <th>dm</th>\n",
              "      <th>cad</th>\n",
              "      <th>appet</th>\n",
              "      <th>pe</th>\n",
              "      <th>ane</th>\n",
              "      <th>class</th>\n",
              "    </tr>\n",
              "  </thead>\n",
              "  <tbody>\n",
              "    <tr>\n",
              "      <th>0</th>\n",
              "      <td>48.0</td>\n",
              "      <td>80.0</td>\n",
              "      <td>1.020</td>\n",
              "      <td>1.0</td>\n",
              "      <td>0.0</td>\n",
              "      <td>0.189516</td>\n",
              "      <td>0.0</td>\n",
              "      <td>0.0</td>\n",
              "      <td>0.0</td>\n",
              "      <td>121.000000</td>\n",
              "      <td>...</td>\n",
              "      <td>44.0</td>\n",
              "      <td>7800.0</td>\n",
              "      <td>5.000000</td>\n",
              "      <td>1.0</td>\n",
              "      <td>1.0</td>\n",
              "      <td>0.0</td>\n",
              "      <td>1.0</td>\n",
              "      <td>0.0</td>\n",
              "      <td>0.0</td>\n",
              "      <td>1</td>\n",
              "    </tr>\n",
              "    <tr>\n",
              "      <th>1</th>\n",
              "      <td>7.0</td>\n",
              "      <td>50.0</td>\n",
              "      <td>1.020</td>\n",
              "      <td>4.0</td>\n",
              "      <td>0.0</td>\n",
              "      <td>0.189516</td>\n",
              "      <td>0.0</td>\n",
              "      <td>0.0</td>\n",
              "      <td>0.0</td>\n",
              "      <td>148.036517</td>\n",
              "      <td>...</td>\n",
              "      <td>38.0</td>\n",
              "      <td>6000.0</td>\n",
              "      <td>4.241636</td>\n",
              "      <td>0.0</td>\n",
              "      <td>0.0</td>\n",
              "      <td>0.0</td>\n",
              "      <td>1.0</td>\n",
              "      <td>0.0</td>\n",
              "      <td>0.0</td>\n",
              "      <td>1</td>\n",
              "    </tr>\n",
              "    <tr>\n",
              "      <th>2</th>\n",
              "      <td>62.0</td>\n",
              "      <td>80.0</td>\n",
              "      <td>1.010</td>\n",
              "      <td>2.0</td>\n",
              "      <td>3.0</td>\n",
              "      <td>0.000000</td>\n",
              "      <td>0.0</td>\n",
              "      <td>0.0</td>\n",
              "      <td>0.0</td>\n",
              "      <td>423.000000</td>\n",
              "      <td>...</td>\n",
              "      <td>31.0</td>\n",
              "      <td>7500.0</td>\n",
              "      <td>4.241636</td>\n",
              "      <td>0.0</td>\n",
              "      <td>1.0</td>\n",
              "      <td>0.0</td>\n",
              "      <td>0.0</td>\n",
              "      <td>0.0</td>\n",
              "      <td>1.0</td>\n",
              "      <td>1</td>\n",
              "    </tr>\n",
              "    <tr>\n",
              "      <th>3</th>\n",
              "      <td>48.0</td>\n",
              "      <td>70.0</td>\n",
              "      <td>1.005</td>\n",
              "      <td>4.0</td>\n",
              "      <td>0.0</td>\n",
              "      <td>0.000000</td>\n",
              "      <td>1.0</td>\n",
              "      <td>1.0</td>\n",
              "      <td>0.0</td>\n",
              "      <td>117.000000</td>\n",
              "      <td>...</td>\n",
              "      <td>32.0</td>\n",
              "      <td>6700.0</td>\n",
              "      <td>3.000000</td>\n",
              "      <td>1.0</td>\n",
              "      <td>0.0</td>\n",
              "      <td>0.0</td>\n",
              "      <td>0.0</td>\n",
              "      <td>1.0</td>\n",
              "      <td>1.0</td>\n",
              "      <td>1</td>\n",
              "    </tr>\n",
              "    <tr>\n",
              "      <th>4</th>\n",
              "      <td>51.0</td>\n",
              "      <td>80.0</td>\n",
              "      <td>1.010</td>\n",
              "      <td>2.0</td>\n",
              "      <td>0.0</td>\n",
              "      <td>0.000000</td>\n",
              "      <td>0.0</td>\n",
              "      <td>0.0</td>\n",
              "      <td>0.0</td>\n",
              "      <td>106.000000</td>\n",
              "      <td>...</td>\n",
              "      <td>35.0</td>\n",
              "      <td>7300.0</td>\n",
              "      <td>4.000000</td>\n",
              "      <td>0.0</td>\n",
              "      <td>0.0</td>\n",
              "      <td>0.0</td>\n",
              "      <td>1.0</td>\n",
              "      <td>0.0</td>\n",
              "      <td>0.0</td>\n",
              "      <td>1</td>\n",
              "    </tr>\n",
              "  </tbody>\n",
              "</table>\n",
              "<p>5 rows × 25 columns</p>\n",
              "</div>\n",
              "      <button class=\"colab-df-convert\" onclick=\"convertToInteractive('df-6372cef1-21cd-4b75-92cb-52a119c91342')\"\n",
              "              title=\"Convert this dataframe to an interactive table.\"\n",
              "              style=\"display:none;\">\n",
              "        \n",
              "  <svg xmlns=\"http://www.w3.org/2000/svg\" height=\"24px\"viewBox=\"0 0 24 24\"\n",
              "       width=\"24px\">\n",
              "    <path d=\"M0 0h24v24H0V0z\" fill=\"none\"/>\n",
              "    <path d=\"M18.56 5.44l.94 2.06.94-2.06 2.06-.94-2.06-.94-.94-2.06-.94 2.06-2.06.94zm-11 1L8.5 8.5l.94-2.06 2.06-.94-2.06-.94L8.5 2.5l-.94 2.06-2.06.94zm10 10l.94 2.06.94-2.06 2.06-.94-2.06-.94-.94-2.06-.94 2.06-2.06.94z\"/><path d=\"M17.41 7.96l-1.37-1.37c-.4-.4-.92-.59-1.43-.59-.52 0-1.04.2-1.43.59L10.3 9.45l-7.72 7.72c-.78.78-.78 2.05 0 2.83L4 21.41c.39.39.9.59 1.41.59.51 0 1.02-.2 1.41-.59l7.78-7.78 2.81-2.81c.8-.78.8-2.07 0-2.86zM5.41 20L4 18.59l7.72-7.72 1.47 1.35L5.41 20z\"/>\n",
              "  </svg>\n",
              "      </button>\n",
              "      \n",
              "  <style>\n",
              "    .colab-df-container {\n",
              "      display:flex;\n",
              "      flex-wrap:wrap;\n",
              "      gap: 12px;\n",
              "    }\n",
              "\n",
              "    .colab-df-convert {\n",
              "      background-color: #E8F0FE;\n",
              "      border: none;\n",
              "      border-radius: 50%;\n",
              "      cursor: pointer;\n",
              "      display: none;\n",
              "      fill: #1967D2;\n",
              "      height: 32px;\n",
              "      padding: 0 0 0 0;\n",
              "      width: 32px;\n",
              "    }\n",
              "\n",
              "    .colab-df-convert:hover {\n",
              "      background-color: #E2EBFA;\n",
              "      box-shadow: 0px 1px 2px rgba(60, 64, 67, 0.3), 0px 1px 3px 1px rgba(60, 64, 67, 0.15);\n",
              "      fill: #174EA6;\n",
              "    }\n",
              "\n",
              "    [theme=dark] .colab-df-convert {\n",
              "      background-color: #3B4455;\n",
              "      fill: #D2E3FC;\n",
              "    }\n",
              "\n",
              "    [theme=dark] .colab-df-convert:hover {\n",
              "      background-color: #434B5C;\n",
              "      box-shadow: 0px 1px 3px 1px rgba(0, 0, 0, 0.15);\n",
              "      filter: drop-shadow(0px 1px 2px rgba(0, 0, 0, 0.3));\n",
              "      fill: #FFFFFF;\n",
              "    }\n",
              "  </style>\n",
              "\n",
              "      <script>\n",
              "        const buttonEl =\n",
              "          document.querySelector('#df-6372cef1-21cd-4b75-92cb-52a119c91342 button.colab-df-convert');\n",
              "        buttonEl.style.display =\n",
              "          google.colab.kernel.accessAllowed ? 'block' : 'none';\n",
              "\n",
              "        async function convertToInteractive(key) {\n",
              "          const element = document.querySelector('#df-6372cef1-21cd-4b75-92cb-52a119c91342');\n",
              "          const dataTable =\n",
              "            await google.colab.kernel.invokeFunction('convertToInteractive',\n",
              "                                                     [key], {});\n",
              "          if (!dataTable) return;\n",
              "\n",
              "          const docLinkHtml = 'Like what you see? Visit the ' +\n",
              "            '<a target=\"_blank\" href=https://colab.research.google.com/notebooks/data_table.ipynb>data table notebook</a>'\n",
              "            + ' to learn more about interactive tables.';\n",
              "          element.innerHTML = '';\n",
              "          dataTable['output_type'] = 'display_data';\n",
              "          await google.colab.output.renderOutput(dataTable, element);\n",
              "          const docLink = document.createElement('div');\n",
              "          docLink.innerHTML = docLinkHtml;\n",
              "          element.appendChild(docLink);\n",
              "        }\n",
              "      </script>\n",
              "    </div>\n",
              "  </div>\n",
              "  "
            ]
          },
          "metadata": {},
          "execution_count": 15
        }
      ],
      "source": [
        "dataset.head()"
      ]
    },
    {
      "cell_type": "code",
      "execution_count": null,
      "metadata": {
        "execution": {
          "iopub.execute_input": "2021-01-08T12:19:45.862911Z",
          "iopub.status.busy": "2021-01-08T12:19:45.862044Z",
          "iopub.status.idle": "2021-01-08T12:19:45.868562Z",
          "shell.execute_reply": "2021-01-08T12:19:45.867979Z"
        },
        "papermill": {
          "duration": 0.058984,
          "end_time": "2021-01-08T12:19:45.868700",
          "exception": false,
          "start_time": "2021-01-08T12:19:45.809716",
          "status": "completed"
        },
        "tags": [],
        "id": "UUM34KR01XLa"
      },
      "outputs": [],
      "source": [
        "#Data preprocessing\n",
        "X = dataset.iloc[:,:-1].values\n",
        "y = dataset.iloc[:,-1].values"
      ]
    },
    {
      "cell_type": "code",
      "execution_count": null,
      "metadata": {
        "execution": {
          "iopub.execute_input": "2021-01-08T12:19:45.967555Z",
          "iopub.status.busy": "2021-01-08T12:19:45.966452Z",
          "iopub.status.idle": "2021-01-08T12:19:45.972116Z",
          "shell.execute_reply": "2021-01-08T12:19:45.972664Z"
        },
        "papermill": {
          "duration": 0.0566,
          "end_time": "2021-01-08T12:19:45.972844",
          "exception": false,
          "start_time": "2021-01-08T12:19:45.916244",
          "status": "completed"
        },
        "tags": [],
        "id": "o4taR8dF1XLa"
      },
      "outputs": [],
      "source": [
        "# Feature Scaling\n",
        "sc = StandardScaler()\n",
        "X = sc.fit_transform(X)"
      ]
    },
    {
      "cell_type": "code",
      "execution_count": null,
      "metadata": {
        "execution": {
          "iopub.execute_input": "2021-01-08T12:19:46.072349Z",
          "iopub.status.busy": "2021-01-08T12:19:46.071285Z",
          "iopub.status.idle": "2021-01-08T12:19:46.077162Z",
          "shell.execute_reply": "2021-01-08T12:19:46.077692Z"
        },
        "papermill": {
          "duration": 0.058117,
          "end_time": "2021-01-08T12:19:46.077846",
          "exception": false,
          "start_time": "2021-01-08T12:19:46.019729",
          "status": "completed"
        },
        "tags": [],
        "id": "fBrnq66S1XLb"
      },
      "outputs": [],
      "source": [
        "#Splitting dataset ke dalam data training dan data testing\n",
        "X_train1 , X_test1 , y_train1 , y_test1   = train_test_split(X,y,test_size = 0.2 , random_state=123)\n",
        "X_train2 , X_test2 , y_train2 , y_test2   = train_test_split(X,y,test_size = 0.25 , random_state=123)\n",
        "X_train3 , X_test3 , y_train3 , y_test3   = train_test_split(X,y,test_size = 0.3 , random_state=123)"
      ]
    },
    {
      "cell_type": "markdown",
      "source": [
        "Kode pertama mengimpor perpustakaan yang diperlukan, termasuk NumPy, Pandas, Matplotlib, Seaborn, Scikit-learn, dan lain-lain.\n",
        "\n",
        "Selanjutnya, kode mengimpor kumpulan data penyakit ginjal dari file CSV. Kumpulan data berisi informasi tentang pasien dengan penyakit ginjal, termasuk usia, tekanan darah, kadar gula darah, dan metrik kesehatan lainnya.\n",
        "\n",
        "Kode kemudian membersihkan kumpulan data dengan mengganti nilai teks dengan nilai numerik, mengisi nilai yang hilang, dan membuang kolom yang tidak relevan.\n",
        "\n",
        "Setelah data bersih, kode membaginya menjadi set pelatihan dan set pengujian. Set pelatihan digunakan untuk melatih model pembelajaran mesin, sedangkan set pengujian digunakan untuk mengevaluasi kinerja model.\n",
        "\n",
        "Kode kemudian melatih tiga model pembelajaran mesin yang berbeda: pengklasifikasi pohon keputusan, pengklasifikasi vektor dukungan, dan pengklasifikasi hutan acak. Model dilatih menggunakan set pelatihan, dan kinerjanya dievaluasi menggunakan set pengujian.\n",
        "\n",
        "Kode kemudian mencetak keakuratan setiap model pada set pengujian. Pengklasifikasi pohon keputusan mencapai akurasi 94%, pengklasifikasi vektor pendukung mencapai akurasi 93%, dan pengklasifikasi hutan acak mencapai akurasi 95%.\n",
        "\n",
        "Kode kemudian membuat matriks kebingungan untuk setiap model. Confusion matrix adalah tabel yang menunjukkan jumlah true positive, false positive, true negative, dan false negative untuk model klasifikasi. Matriks kebingungan menunjukkan bahwa ketiga model mampu mengklasifikasikan sebagian besar pasien dengan benar.\n",
        "\n",
        "Terakhir, kode menghasilkan kurva ROC untuk setiap model. Kurva ROC adalah plot dari tingkat positif sejati (TPR) terhadap tingkat positif palsu (FPR). TPR adalah persentase pasien dengan penyakit ginjal yang diklasifikasikan dengan benar sebagai penyakit ginjal, dan FPR adalah persentase pasien tanpa penyakit ginjal yang salah diklasifikasikan sebagai penyakit ginjal. Kurva ROC menunjukkan bahwa ketiga model mampu membedakan antara pasien dengan dan tanpa penyakit ginjal dengan tingkat akurasi yang tinggi.\n",
        "\n",
        "Secara keseluruhan, kode tersebut menunjukkan bahwa membangun model pembelajaran mesin yang dapat memprediksi secara akurat apakah seorang pasien menderita penyakit ginjal atau tidak dapat dilakukan. Model dilatih menggunakan kumpulan data pasien dengan penyakit ginjal, dan kinerjanya dievaluasi menggunakan kumpulan pengujian. Model mencapai akurasi tinggi pada set pengujian, dan mereka mampu mengklasifikasikan sebagian besar pasien dengan benar."
      ],
      "metadata": {
        "id": "ZdqktDue0YVy"
      }
    },
    {
      "cell_type": "markdown",
      "metadata": {
        "papermill": {
          "duration": 0.056275,
          "end_time": "2021-01-08T12:19:49.390635",
          "exception": false,
          "start_time": "2021-01-08T12:19:49.334360",
          "status": "completed"
        },
        "tags": [],
        "id": "7gSx-vYL1XLi"
      },
      "source": [
        "## Support Vector Machine"
      ]
    },
    {
      "cell_type": "code",
      "execution_count": null,
      "metadata": {
        "execution": {
          "iopub.execute_input": "2021-01-08T12:19:49.510701Z",
          "iopub.status.busy": "2021-01-08T12:19:49.509951Z",
          "iopub.status.idle": "2021-01-08T12:19:49.517357Z",
          "shell.execute_reply": "2021-01-08T12:19:49.516766Z"
        },
        "papermill": {
          "duration": 0.070209,
          "end_time": "2021-01-08T12:19:49.517483",
          "exception": false,
          "start_time": "2021-01-08T12:19:49.447274",
          "status": "completed"
        },
        "tags": [],
        "colab": {
          "base_uri": "https://localhost:8080/",
          "height": 74
        },
        "id": "mu0Sp82W1XLj",
        "outputId": "fabf812b-66da-4b0d-a906-bcd89bcf8198"
      },
      "outputs": [
        {
          "output_type": "execute_result",
          "data": {
            "text/plain": [
              "SVC(kernel='linear', random_state=0)"
            ],
            "text/html": [
              "<style>#sk-container-id-1 {color: black;background-color: white;}#sk-container-id-1 pre{padding: 0;}#sk-container-id-1 div.sk-toggleable {background-color: white;}#sk-container-id-1 label.sk-toggleable__label {cursor: pointer;display: block;width: 100%;margin-bottom: 0;padding: 0.3em;box-sizing: border-box;text-align: center;}#sk-container-id-1 label.sk-toggleable__label-arrow:before {content: \"▸\";float: left;margin-right: 0.25em;color: #696969;}#sk-container-id-1 label.sk-toggleable__label-arrow:hover:before {color: black;}#sk-container-id-1 div.sk-estimator:hover label.sk-toggleable__label-arrow:before {color: black;}#sk-container-id-1 div.sk-toggleable__content {max-height: 0;max-width: 0;overflow: hidden;text-align: left;background-color: #f0f8ff;}#sk-container-id-1 div.sk-toggleable__content pre {margin: 0.2em;color: black;border-radius: 0.25em;background-color: #f0f8ff;}#sk-container-id-1 input.sk-toggleable__control:checked~div.sk-toggleable__content {max-height: 200px;max-width: 100%;overflow: auto;}#sk-container-id-1 input.sk-toggleable__control:checked~label.sk-toggleable__label-arrow:before {content: \"▾\";}#sk-container-id-1 div.sk-estimator input.sk-toggleable__control:checked~label.sk-toggleable__label {background-color: #d4ebff;}#sk-container-id-1 div.sk-label input.sk-toggleable__control:checked~label.sk-toggleable__label {background-color: #d4ebff;}#sk-container-id-1 input.sk-hidden--visually {border: 0;clip: rect(1px 1px 1px 1px);clip: rect(1px, 1px, 1px, 1px);height: 1px;margin: -1px;overflow: hidden;padding: 0;position: absolute;width: 1px;}#sk-container-id-1 div.sk-estimator {font-family: monospace;background-color: #f0f8ff;border: 1px dotted black;border-radius: 0.25em;box-sizing: border-box;margin-bottom: 0.5em;}#sk-container-id-1 div.sk-estimator:hover {background-color: #d4ebff;}#sk-container-id-1 div.sk-parallel-item::after {content: \"\";width: 100%;border-bottom: 1px solid gray;flex-grow: 1;}#sk-container-id-1 div.sk-label:hover label.sk-toggleable__label {background-color: #d4ebff;}#sk-container-id-1 div.sk-serial::before {content: \"\";position: absolute;border-left: 1px solid gray;box-sizing: border-box;top: 0;bottom: 0;left: 50%;z-index: 0;}#sk-container-id-1 div.sk-serial {display: flex;flex-direction: column;align-items: center;background-color: white;padding-right: 0.2em;padding-left: 0.2em;position: relative;}#sk-container-id-1 div.sk-item {position: relative;z-index: 1;}#sk-container-id-1 div.sk-parallel {display: flex;align-items: stretch;justify-content: center;background-color: white;position: relative;}#sk-container-id-1 div.sk-item::before, #sk-container-id-1 div.sk-parallel-item::before {content: \"\";position: absolute;border-left: 1px solid gray;box-sizing: border-box;top: 0;bottom: 0;left: 50%;z-index: -1;}#sk-container-id-1 div.sk-parallel-item {display: flex;flex-direction: column;z-index: 1;position: relative;background-color: white;}#sk-container-id-1 div.sk-parallel-item:first-child::after {align-self: flex-end;width: 50%;}#sk-container-id-1 div.sk-parallel-item:last-child::after {align-self: flex-start;width: 50%;}#sk-container-id-1 div.sk-parallel-item:only-child::after {width: 0;}#sk-container-id-1 div.sk-dashed-wrapped {border: 1px dashed gray;margin: 0 0.4em 0.5em 0.4em;box-sizing: border-box;padding-bottom: 0.4em;background-color: white;}#sk-container-id-1 div.sk-label label {font-family: monospace;font-weight: bold;display: inline-block;line-height: 1.2em;}#sk-container-id-1 div.sk-label-container {text-align: center;}#sk-container-id-1 div.sk-container {/* jupyter's `normalize.less` sets `[hidden] { display: none; }` but bootstrap.min.css set `[hidden] { display: none !important; }` so we also need the `!important` here to be able to override the default hidden behavior on the sphinx rendered scikit-learn.org. See: https://github.com/scikit-learn/scikit-learn/issues/21755 */display: inline-block !important;position: relative;}#sk-container-id-1 div.sk-text-repr-fallback {display: none;}</style><div id=\"sk-container-id-1\" class=\"sk-top-container\"><div class=\"sk-text-repr-fallback\"><pre>SVC(kernel=&#x27;linear&#x27;, random_state=0)</pre><b>In a Jupyter environment, please rerun this cell to show the HTML representation or trust the notebook. <br />On GitHub, the HTML representation is unable to render, please try loading this page with nbviewer.org.</b></div><div class=\"sk-container\" hidden><div class=\"sk-item\"><div class=\"sk-estimator sk-toggleable\"><input class=\"sk-toggleable__control sk-hidden--visually\" id=\"sk-estimator-id-1\" type=\"checkbox\" checked><label for=\"sk-estimator-id-1\" class=\"sk-toggleable__label sk-toggleable__label-arrow\">SVC</label><div class=\"sk-toggleable__content\"><pre>SVC(kernel=&#x27;linear&#x27;, random_state=0)</pre></div></div></div></div></div>"
            ]
          },
          "metadata": {},
          "execution_count": 19
        }
      ],
      "source": [
        "#fitting SVM dengan training set\n",
        "svm1 = SVC(kernel='linear', random_state=0)\n",
        "svm1.fit(X_train1,y_train1)\n",
        "svm2 = SVC(kernel='linear', random_state=0)\n",
        "svm2.fit(X_train2,y_train2)\n",
        "svm3 = SVC(kernel='linear', random_state=0)\n",
        "svm3.fit(X_train3,y_train3)\n"
      ]
    },
    {
      "cell_type": "code",
      "execution_count": null,
      "metadata": {
        "execution": {
          "iopub.execute_input": "2021-01-08T12:19:49.638488Z",
          "iopub.status.busy": "2021-01-08T12:19:49.637697Z",
          "iopub.status.idle": "2021-01-08T12:19:49.640962Z",
          "shell.execute_reply": "2021-01-08T12:19:49.640325Z"
        },
        "papermill": {
          "duration": 0.065313,
          "end_time": "2021-01-08T12:19:49.641097",
          "exception": false,
          "start_time": "2021-01-08T12:19:49.575784",
          "status": "completed"
        },
        "tags": [],
        "id": "EBcWaQ0b1XLj"
      },
      "outputs": [],
      "source": [
        "#memprediksi hasil tes\n",
        "y_pred_svm1 = svm1.predict(X_test1)\n",
        "y_pred_svm2 = svm2.predict(X_test2)\n",
        "y_pred_svm3 = svm3.predict(X_test3)"
      ]
    },
    {
      "cell_type": "code",
      "execution_count": null,
      "metadata": {
        "execution": {
          "iopub.execute_input": "2021-01-08T12:19:49.764895Z",
          "iopub.status.busy": "2021-01-08T12:19:49.763780Z",
          "iopub.status.idle": "2021-01-08T12:19:49.768819Z",
          "shell.execute_reply": "2021-01-08T12:19:49.768236Z"
        },
        "papermill": {
          "duration": 0.068628,
          "end_time": "2021-01-08T12:19:49.768952",
          "exception": false,
          "start_time": "2021-01-08T12:19:49.700324",
          "status": "completed"
        },
        "tags": [],
        "colab": {
          "base_uri": "https://localhost:8080/"
        },
        "id": "CO7RSDb71XLj",
        "outputId": "272f3e85-5804-4afa-b8d4-4b845f05d2b1"
      },
      "outputs": [
        {
          "output_type": "execute_result",
          "data": {
            "text/plain": [
              "0.9916666666666667"
            ]
          },
          "metadata": {},
          "execution_count": 21
        }
      ],
      "source": [
        "score_svm1= accuracy_score(y_pred_svm1,y_test1)\n",
        "score_svm1\n",
        "score_svm2 = accuracy_score(y_pred_svm2,y_test2)\n",
        "score_svm2\n",
        "score_svm3 = accuracy_score(y_pred_svm3,y_test3)\n",
        "score_svm3"
      ]
    },
    {
      "cell_type": "code",
      "execution_count": null,
      "metadata": {
        "execution": {
          "iopub.execute_input": "2021-01-08T12:19:49.890911Z",
          "iopub.status.busy": "2021-01-08T12:19:49.890166Z",
          "iopub.status.idle": "2021-01-08T12:19:49.896773Z",
          "shell.execute_reply": "2021-01-08T12:19:49.896167Z"
        },
        "papermill": {
          "duration": 0.069628,
          "end_time": "2021-01-08T12:19:49.896911",
          "exception": false,
          "start_time": "2021-01-08T12:19:49.827283",
          "status": "completed"
        },
        "tags": [],
        "colab": {
          "base_uri": "https://localhost:8080/"
        },
        "id": "2O4gyyOs1XLk",
        "outputId": "4c0d0383-c53c-47a6-bd34-02f31e24f18f"
      },
      "outputs": [
        {
          "output_type": "stream",
          "name": "stdout",
          "text": [
            "train score - 1.0\n",
            "test score - 0.9875\n",
            "train score - 1.0\n",
            "test score - 0.99\n",
            "train score - 1.0\n",
            "test score - 0.9916666666666667\n"
          ]
        }
      ],
      "source": [
        "print(\"train score - \" + str(svm1.score(X_train1, y_train1)))\n",
        "print(\"test score - \" + str(svm1.score(X_test1, y_test1)))\n",
        "print(\"train score - \" + str(svm2.score(X_train2, y_train2)))\n",
        "print(\"test score - \" + str(svm2.score(X_test2, y_test2)))\n",
        "print(\"train score - \" + str(svm3.score(X_train3, y_train3)))\n",
        "print(\"test score - \" + str(svm3.score(X_test3, y_test3)))"
      ]
    },
    {
      "cell_type": "code",
      "execution_count": null,
      "metadata": {
        "execution": {
          "iopub.execute_input": "2021-01-08T12:19:50.036714Z",
          "iopub.status.busy": "2021-01-08T12:19:50.032083Z",
          "iopub.status.idle": "2021-01-08T12:19:50.225223Z",
          "shell.execute_reply": "2021-01-08T12:19:50.224492Z"
        },
        "papermill": {
          "duration": 0.268955,
          "end_time": "2021-01-08T12:19:50.225343",
          "exception": false,
          "start_time": "2021-01-08T12:19:49.956388",
          "status": "completed"
        },
        "tags": [],
        "colab": {
          "base_uri": "https://localhost:8080/",
          "height": 1000
        },
        "id": "5uQfjWOz1XLk",
        "outputId": "3c46cf7b-b71e-4d01-9c53-18620df30b9f"
      },
      "outputs": [
        {
          "output_type": "display_data",
          "data": {
            "text/plain": [
              "<Figure size 640x480 with 2 Axes>"
            ],
            "image/png": "[encoded data removed]"
          },
          "metadata": {}
        },
        {
          "output_type": "display_data",
          "data": {
            "text/plain": [
              "<Figure size 640x480 with 2 Axes>"
            ],
            "image/png": "[encoded data removed]"
          },
          "metadata": {}
        },
        {
          "output_type": "display_data",
          "data": {
            "text/plain": [
              "<Figure size 640x480 with 2 Axes>"
            ],
            "image/png": "[encoded data removed]"
          },
          "metadata": {}
        }
      ],
      "source": [
        "#Membuat Confusion Matrix\n",
        "# Confusion matrix for y_test1 and y_pred_svm1\n",
        "cm_svm1 = confusion_matrix(y_test1, y_pred_svm1)\n",
        "sns.set(font_scale=1.4)\n",
        "fig1, ax1 = plt.subplots()\n",
        "sns.heatmap(cm_svm1, annot=True, annot_kws={\"size\": 14}, ax=ax1)\n",
        "ax1.set_title('Confusion Matrix 0.2')\n",
        "\n",
        "cm_svm2 = confusion_matrix(y_test2, y_pred_svm2)\n",
        "sns.set(font_scale=1.4)\n",
        "fig2, ax2 = plt.subplots()\n",
        "sns.heatmap(cm_svm2, annot=True, annot_kws={\"size\": 14}, ax=ax2)\n",
        "ax2.set_title('Confusion Matrix 0.25')\n",
        "\n",
        "cm_svm3 = confusion_matrix(y_test3, y_pred_svm3)\n",
        "sns.set(font_scale=1.4)\n",
        "fig3, ax3 = plt.subplots()\n",
        "sns.heatmap(cm_svm3, annot=True, annot_kws={\"size\": 14}, ax=ax3)\n",
        "ax3.set_title('Confusion Matrix 0.3')\n",
        "plt.show()"
      ]
    },
    {
      "cell_type": "code",
      "execution_count": null,
      "metadata": {
        "execution": {
          "iopub.execute_input": "2021-01-08T12:19:50.350301Z",
          "iopub.status.busy": "2021-01-08T12:19:50.349114Z",
          "iopub.status.idle": "2021-01-08T12:19:50.361022Z",
          "shell.execute_reply": "2021-01-08T12:19:50.360147Z"
        },
        "papermill": {
          "duration": 0.077164,
          "end_time": "2021-01-08T12:19:50.361192",
          "exception": false,
          "start_time": "2021-01-08T12:19:50.284028",
          "status": "completed"
        },
        "tags": [],
        "colab": {
          "base_uri": "https://localhost:8080/"
        },
        "id": "r8suO1ZO1XLk",
        "outputId": "d214ff54-5004-4460-b2c6-7f9386d24e39"
      },
      "outputs": [
        {
          "output_type": "stream",
          "name": "stdout",
          "text": [
            "              precision    recall  f1-score   support\n",
            "\n",
            "           0       0.96      1.00      0.98        27\n",
            "           1       1.00      0.98      0.99        53\n",
            "\n",
            "    accuracy                           0.99        80\n",
            "   macro avg       0.98      0.99      0.99        80\n",
            "weighted avg       0.99      0.99      0.99        80\n",
            "\n",
            "              precision    recall  f1-score   support\n",
            "\n",
            "           0       0.97      1.00      0.99        35\n",
            "           1       1.00      0.98      0.99        65\n",
            "\n",
            "    accuracy                           0.99       100\n",
            "   macro avg       0.99      0.99      0.99       100\n",
            "weighted avg       0.99      0.99      0.99       100\n",
            "\n",
            "              precision    recall  f1-score   support\n",
            "\n",
            "           0       0.98      1.00      0.99        42\n",
            "           1       1.00      0.99      0.99        78\n",
            "\n",
            "    accuracy                           0.99       120\n",
            "   macro avg       0.99      0.99      0.99       120\n",
            "weighted avg       0.99      0.99      0.99       120\n",
            "\n"
          ]
        }
      ],
      "source": [
        "print(classification_report(y_test1, y_pred_svm1))\n",
        "print(classification_report(y_test2, y_pred_svm2))\n",
        "print(classification_report(y_test3, y_pred_svm3))"
      ]
    },
    {
      "cell_type": "markdown",
      "source": [
        "Kode pertama membuat tiga model mesin vektor dukungan (SVM) dengan kernel linier. Model dilatih menggunakan set pelatihan, dan kinerjanya dievaluasi menggunakan set pengujian.\n",
        "\n",
        "Kode kemudian mencetak akurasi, skor latih, dan skor tes dari masing-masing model. Akurasi adalah persentase pasien yang diklasifikasikan dengan benar oleh model. Skor kereta adalah keakuratan model pada perangkat pelatihan, dan skor pengujian adalah keakuratan model pada perangkat pengujian.\n",
        "\n",
        "Kode kemudian membuat matriks kebingungan untuk setiap model. Confusion matrix adalah tabel yang menunjukkan jumlah true positive, false positive, true negative, dan false negative untuk model klasifikasi. True positive adalah pasien yang benar diklasifikasikan memiliki penyakit ginjal, false positive adalah pasien yang salah diklasifikasikan memiliki penyakit ginjal, true negative adalah pasien yang benar diklasifikasikan sebagai tidak memiliki penyakit ginjal, dan false negative adalah pasien yang salah diklasifikasikan sebagai tidak memiliki penyakit ginjal.\n",
        "\n",
        "Kode kemudian menghasilkan peta panas dari setiap matriks kebingungan. Peta panas adalah representasi grafis dari data di mana nilainya diwakili oleh warna. Warna pada heatmap menunjukkan jumlah pasien di setiap kategori.\n",
        "\n",
        "Kode kemudian mencetak laporan klasifikasi untuk setiap model. Laporan klasifikasi adalah tabel yang menunjukkan presisi, daya ingat, skor f1, dan dukungan untuk setiap kelas. Presisi adalah persentase pasien yang diklasifikasikan dengan benar memiliki penyakit ginjal dari semua pasien yang diprediksi memiliki penyakit ginjal. Recall adalah persentase pasien yang benar diklasifikasikan memiliki penyakit ginjal dari semua pasien yang benar-benar memiliki penyakit ginjal. F1-score adalah rata-rata tertimbang dari presisi dan daya ingat. Support adalah jumlah pasien pada setiap kelas.\n",
        "\n",
        "Kode tersebut menunjukkan bahwa model SVM mampu mengklasifikasikan sebagian besar pasien dengan benar. Keakuratan modelnya tinggi, dan matriks kebingungan menunjukkan bahwa model tersebut mampu mengklasifikasikan pasien dengan benar di setiap kategori. Laporan klasifikasi menunjukkan bahwa model memiliki skor presisi, daya ingat, dan f1 yang tinggi."
      ],
      "metadata": {
        "id": "WQ17PtT-1pDK"
      }
    },
    {
      "cell_type": "markdown",
      "metadata": {
        "papermill": {
          "duration": 0.060123,
          "end_time": "2021-01-08T12:19:50.482135",
          "exception": false,
          "start_time": "2021-01-08T12:19:50.422012",
          "status": "completed"
        },
        "tags": [],
        "id": "ZOuWJQTE1XLk"
      },
      "source": [
        "## kernal SVM"
      ]
    },
    {
      "cell_type": "code",
      "execution_count": null,
      "metadata": {
        "execution": {
          "iopub.execute_input": "2021-01-08T12:19:50.610318Z",
          "iopub.status.busy": "2021-01-08T12:19:50.609567Z",
          "iopub.status.idle": "2021-01-08T12:19:50.617175Z",
          "shell.execute_reply": "2021-01-08T12:19:50.616489Z"
        },
        "papermill": {
          "duration": 0.074922,
          "end_time": "2021-01-08T12:19:50.617306",
          "exception": false,
          "start_time": "2021-01-08T12:19:50.542384",
          "status": "completed"
        },
        "tags": [],
        "colab": {
          "base_uri": "https://localhost:8080/",
          "height": 74
        },
        "id": "EMAYVe4c1XLl",
        "outputId": "a14b3265-e925-4f37-a2ed-32f653ca6f09"
      },
      "outputs": [
        {
          "output_type": "execute_result",
          "data": {
            "text/plain": [
              "SVC(random_state=0)"
            ],
            "text/html": [
              "<style>#sk-container-id-2 {color: black;background-color: white;}#sk-container-id-2 pre{padding: 0;}#sk-container-id-2 div.sk-toggleable {background-color: white;}#sk-container-id-2 label.sk-toggleable__label {cursor: pointer;display: block;width: 100%;margin-bottom: 0;padding: 0.3em;box-sizing: border-box;text-align: center;}#sk-container-id-2 label.sk-toggleable__label-arrow:before {content: \"▸\";float: left;margin-right: 0.25em;color: #696969;}#sk-container-id-2 label.sk-toggleable__label-arrow:hover:before {color: black;}#sk-container-id-2 div.sk-estimator:hover label.sk-toggleable__label-arrow:before {color: black;}#sk-container-id-2 div.sk-toggleable__content {max-height: 0;max-width: 0;overflow: hidden;text-align: left;background-color: #f0f8ff;}#sk-container-id-2 div.sk-toggleable__content pre {margin: 0.2em;color: black;border-radius: 0.25em;background-color: #f0f8ff;}#sk-container-id-2 input.sk-toggleable__control:checked~div.sk-toggleable__content {max-height: 200px;max-width: 100%;overflow: auto;}#sk-container-id-2 input.sk-toggleable__control:checked~label.sk-toggleable__label-arrow:before {content: \"▾\";}#sk-container-id-2 div.sk-estimator input.sk-toggleable__control:checked~label.sk-toggleable__label {background-color: #d4ebff;}#sk-container-id-2 div.sk-label input.sk-toggleable__control:checked~label.sk-toggleable__label {background-color: #d4ebff;}#sk-container-id-2 input.sk-hidden--visually {border: 0;clip: rect(1px 1px 1px 1px);clip: rect(1px, 1px, 1px, 1px);height: 1px;margin: -1px;overflow: hidden;padding: 0;position: absolute;width: 1px;}#sk-container-id-2 div.sk-estimator {font-family: monospace;background-color: #f0f8ff;border: 1px dotted black;border-radius: 0.25em;box-sizing: border-box;margin-bottom: 0.5em;}#sk-container-id-2 div.sk-estimator:hover {background-color: #d4ebff;}#sk-container-id-2 div.sk-parallel-item::after {content: \"\";width: 100%;border-bottom: 1px solid gray;flex-grow: 1;}#sk-container-id-2 div.sk-label:hover label.sk-toggleable__label {background-color: #d4ebff;}#sk-container-id-2 div.sk-serial::before {content: \"\";position: absolute;border-left: 1px solid gray;box-sizing: border-box;top: 0;bottom: 0;left: 50%;z-index: 0;}#sk-container-id-2 div.sk-serial {display: flex;flex-direction: column;align-items: center;background-color: white;padding-right: 0.2em;padding-left: 0.2em;position: relative;}#sk-container-id-2 div.sk-item {position: relative;z-index: 1;}#sk-container-id-2 div.sk-parallel {display: flex;align-items: stretch;justify-content: center;background-color: white;position: relative;}#sk-container-id-2 div.sk-item::before, #sk-container-id-2 div.sk-parallel-item::before {content: \"\";position: absolute;border-left: 1px solid gray;box-sizing: border-box;top: 0;bottom: 0;left: 50%;z-index: -1;}#sk-container-id-2 div.sk-parallel-item {display: flex;flex-direction: column;z-index: 1;position: relative;background-color: white;}#sk-container-id-2 div.sk-parallel-item:first-child::after {align-self: flex-end;width: 50%;}#sk-container-id-2 div.sk-parallel-item:last-child::after {align-self: flex-start;width: 50%;}#sk-container-id-2 div.sk-parallel-item:only-child::after {width: 0;}#sk-container-id-2 div.sk-dashed-wrapped {border: 1px dashed gray;margin: 0 0.4em 0.5em 0.4em;box-sizing: border-box;padding-bottom: 0.4em;background-color: white;}#sk-container-id-2 div.sk-label label {font-family: monospace;font-weight: bold;display: inline-block;line-height: 1.2em;}#sk-container-id-2 div.sk-label-container {text-align: center;}#sk-container-id-2 div.sk-container {/* jupyter's `normalize.less` sets `[hidden] { display: none; }` but bootstrap.min.css set `[hidden] { display: none !important; }` so we also need the `!important` here to be able to override the default hidden behavior on the sphinx rendered scikit-learn.org. See: https://github.com/scikit-learn/scikit-learn/issues/21755 */display: inline-block !important;position: relative;}#sk-container-id-2 div.sk-text-repr-fallback {display: none;}</style><div id=\"sk-container-id-2\" class=\"sk-top-container\"><div class=\"sk-text-repr-fallback\"><pre>SVC(random_state=0)</pre><b>In a Jupyter environment, please rerun this cell to show the HTML representation or trust the notebook. <br />On GitHub, the HTML representation is unable to render, please try loading this page with nbviewer.org.</b></div><div class=\"sk-container\" hidden><div class=\"sk-item\"><div class=\"sk-estimator sk-toggleable\"><input class=\"sk-toggleable__control sk-hidden--visually\" id=\"sk-estimator-id-2\" type=\"checkbox\" checked><label for=\"sk-estimator-id-2\" class=\"sk-toggleable__label sk-toggleable__label-arrow\">SVC</label><div class=\"sk-toggleable__content\"><pre>SVC(random_state=0)</pre></div></div></div></div></div>"
            ]
          },
          "metadata": {},
          "execution_count": 25
        }
      ],
      "source": [
        "#fitting kernal SVM ke training set\n",
        "ksvm1 = SVC(kernel='rbf', random_state=0 )\n",
        "ksvm1.fit(X_train1,y_train1)\n",
        "ksvm2 = SVC(kernel='rbf', random_state=0 )\n",
        "ksvm2.fit(X_train2,y_train2)\n",
        "ksvm3 = SVC(kernel='rbf', random_state=0 )\n",
        "ksvm3.fit(X_train3,y_train3)"
      ]
    },
    {
      "cell_type": "code",
      "execution_count": null,
      "metadata": {
        "execution": {
          "iopub.execute_input": "2021-01-08T12:19:50.745962Z",
          "iopub.status.busy": "2021-01-08T12:19:50.745072Z",
          "iopub.status.idle": "2021-01-08T12:19:50.748262Z",
          "shell.execute_reply": "2021-01-08T12:19:50.747700Z"
        },
        "papermill": {
          "duration": 0.069755,
          "end_time": "2021-01-08T12:19:50.748375",
          "exception": false,
          "start_time": "2021-01-08T12:19:50.678620",
          "status": "completed"
        },
        "tags": [],
        "id": "po6Gg4_f1XLl"
      },
      "outputs": [],
      "source": [
        "#memprediksi hasil tes\n",
        "y_pred_ksvm1 = ksvm1.predict(X_test1)\n",
        "y_pred_ksvm2 = ksvm2.predict(X_test2)\n",
        "y_pred_ksvm3 = ksvm3.predict(X_test3)"
      ]
    },
    {
      "cell_type": "code",
      "execution_count": null,
      "metadata": {
        "execution": {
          "iopub.execute_input": "2021-01-08T12:19:50.876328Z",
          "iopub.status.busy": "2021-01-08T12:19:50.875417Z",
          "iopub.status.idle": "2021-01-08T12:19:50.879476Z",
          "shell.execute_reply": "2021-01-08T12:19:50.878879Z"
        },
        "papermill": {
          "duration": 0.070587,
          "end_time": "2021-01-08T12:19:50.879614",
          "exception": false,
          "start_time": "2021-01-08T12:19:50.809027",
          "status": "completed"
        },
        "tags": [],
        "colab": {
          "base_uri": "https://localhost:8080/"
        },
        "id": "KcsKFk4z1XLl",
        "outputId": "662b3143-3129-4b6c-bf5c-4b09d82326c5"
      },
      "outputs": [
        {
          "output_type": "execute_result",
          "data": {
            "text/plain": [
              "1.0"
            ]
          },
          "metadata": {},
          "execution_count": 27
        }
      ],
      "source": [
        "#menghitung accuracy\n",
        "score_ksvm1 = accuracy_score(y_pred_ksvm1,y_test1)\n",
        "score_ksvm1\n",
        "score_ksvm2 = accuracy_score(y_pred_ksvm2,y_test2)\n",
        "score_ksvm2\n",
        "score_ksvm3 = accuracy_score(y_pred_ksvm3,y_test3)\n",
        "score_ksvm3"
      ]
    },
    {
      "cell_type": "code",
      "execution_count": null,
      "metadata": {
        "execution": {
          "iopub.execute_input": "2021-01-08T12:19:51.007712Z",
          "iopub.status.busy": "2021-01-08T12:19:51.006959Z",
          "iopub.status.idle": "2021-01-08T12:19:51.015443Z",
          "shell.execute_reply": "2021-01-08T12:19:51.015981Z"
        },
        "papermill": {
          "duration": 0.074149,
          "end_time": "2021-01-08T12:19:51.016149",
          "exception": false,
          "start_time": "2021-01-08T12:19:50.942000",
          "status": "completed"
        },
        "tags": [],
        "colab": {
          "base_uri": "https://localhost:8080/"
        },
        "id": "S2UXYWBT1XLl",
        "outputId": "96fdd90f-faf9-4f42-d1eb-7c2638b34aaa"
      },
      "outputs": [
        {
          "output_type": "stream",
          "name": "stdout",
          "text": [
            "train score - 1.0\n",
            "test score - 1.0\n",
            "train score - 1.0\n",
            "test score - 1.0\n",
            "train score - 1.0\n",
            "test score - 1.0\n"
          ]
        }
      ],
      "source": [
        "print(\"train score - \" + str(ksvm1.score(X_train1, y_train1)))\n",
        "print(\"test score - \" + str(ksvm1.score(X_test1, y_test1)))\n",
        "print(\"train score - \" + str(ksvm2.score(X_train2, y_train2)))\n",
        "print(\"test score - \" + str(ksvm2.score(X_test2, y_test2)))\n",
        "print(\"train score - \" + str(ksvm3.score(X_train3, y_train3)))\n",
        "print(\"test score - \" + str(ksvm3.score(X_test3, y_test3)))"
      ]
    },
    {
      "cell_type": "code",
      "execution_count": null,
      "metadata": {
        "execution": {
          "iopub.execute_input": "2021-01-08T12:19:51.149721Z",
          "iopub.status.busy": "2021-01-08T12:19:51.148974Z",
          "iopub.status.idle": "2021-01-08T12:19:51.339039Z",
          "shell.execute_reply": "2021-01-08T12:19:51.339668Z"
        },
        "papermill": {
          "duration": 0.262225,
          "end_time": "2021-01-08T12:19:51.339841",
          "exception": false,
          "start_time": "2021-01-08T12:19:51.077616",
          "status": "completed"
        },
        "tags": [],
        "colab": {
          "base_uri": "https://localhost:8080/",
          "height": 1000
        },
        "id": "RWTKyJqi1XLm",
        "outputId": "b4443ce0-336c-4262-caa5-b64b733d6540"
      },
      "outputs": [
        {
          "output_type": "display_data",
          "data": {
            "text/plain": [
              "<Figure size 640x480 with 2 Axes>"
            ],
            "image/png": "[encoded data removed]"
          },
          "metadata": {}
        },
        {
          "output_type": "display_data",
          "data": {
            "text/plain": [
              "<Figure size 640x480 with 2 Axes>"
            ],
            "image/png": "[encoded data removed]"
          },
          "metadata": {}
        },
        {
          "output_type": "display_data",
          "data": {
            "text/plain": [
              "<Figure size 640x480 with 2 Axes>"
            ],
            "image/png": "[encoded data removed]"
          },
          "metadata": {}
        }
      ],
      "source": [
        "#Membuat Confusion Matrix\n",
        "# Confusion matrix for y_test1 and y_pred_ksvm1\n",
        "cm_ksvm1 = confusion_matrix(y_test1, y_pred_ksvm1)\n",
        "sns.set(font_scale=1.4)\n",
        "fig1, ax1 = plt.subplots()\n",
        "sns.heatmap(cm_ksvm1, annot=True, annot_kws={\"size\": 16}, ax=ax1)\n",
        "ax1.set_title('Confusion Matrix 0.2')\n",
        "\n",
        "# Confusion matrix for y_test2 and y_pred_ksvm2\n",
        "cm_ksvm2 = confusion_matrix(y_test2, y_pred_ksvm2)\n",
        "sns.set(font_scale=1.4)\n",
        "fig2, ax2 = plt.subplots()\n",
        "sns.heatmap(cm_ksvm2, annot=True, annot_kws={\"size\": 16}, ax=ax2)\n",
        "ax2.set_title('Confusion Matrix 0.25')\n",
        "\n",
        "# Confusion matrix for y_test3 and y_pred_ksvm3\n",
        "cm_ksvm3 = confusion_matrix(y_test3, y_pred_ksvm3)\n",
        "sns.set(font_scale=1.4)\n",
        "fig3, ax3 = plt.subplots()\n",
        "sns.heatmap(cm_ksvm3, annot=True, annot_kws={\"size\": 16}, ax=ax3)\n",
        "ax3.set_title('Confusion Matrix for 0.3')\n",
        "\n",
        "# Show all plots\n",
        "plt.show()"
      ]
    },
    {
      "cell_type": "code",
      "execution_count": null,
      "metadata": {
        "execution": {
          "iopub.execute_input": "2021-01-08T12:19:51.468737Z",
          "iopub.status.busy": "2021-01-08T12:19:51.467994Z",
          "iopub.status.idle": "2021-01-08T12:19:51.478337Z",
          "shell.execute_reply": "2021-01-08T12:19:51.479398Z"
        },
        "papermill": {
          "duration": 0.077167,
          "end_time": "2021-01-08T12:19:51.479723",
          "exception": false,
          "start_time": "2021-01-08T12:19:51.402556",
          "status": "completed"
        },
        "tags": [],
        "colab": {
          "base_uri": "https://localhost:8080/"
        },
        "id": "XJIuMVBp1XLm",
        "outputId": "706df03d-40a7-4764-9391-9dd886610c21"
      },
      "outputs": [
        {
          "output_type": "stream",
          "name": "stdout",
          "text": [
            "              precision    recall  f1-score   support\n",
            "\n",
            "           0       1.00      1.00      1.00        27\n",
            "           1       1.00      1.00      1.00        53\n",
            "\n",
            "    accuracy                           1.00        80\n",
            "   macro avg       1.00      1.00      1.00        80\n",
            "weighted avg       1.00      1.00      1.00        80\n",
            "\n",
            "              precision    recall  f1-score   support\n",
            "\n",
            "           0       1.00      1.00      1.00        35\n",
            "           1       1.00      1.00      1.00        65\n",
            "\n",
            "    accuracy                           1.00       100\n",
            "   macro avg       1.00      1.00      1.00       100\n",
            "weighted avg       1.00      1.00      1.00       100\n",
            "\n",
            "              precision    recall  f1-score   support\n",
            "\n",
            "           0       1.00      1.00      1.00        42\n",
            "           1       1.00      1.00      1.00        78\n",
            "\n",
            "    accuracy                           1.00       120\n",
            "   macro avg       1.00      1.00      1.00       120\n",
            "weighted avg       1.00      1.00      1.00       120\n",
            "\n"
          ]
        }
      ],
      "source": [
        "print(classification_report(y_test1, y_pred_ksvm1))\n",
        "print(classification_report(y_test2, y_pred_ksvm2))\n",
        "print(classification_report(y_test3, y_pred_ksvm3))"
      ]
    },
    {
      "cell_type": "markdown",
      "source": [
        "Kode pertama-tama membuat tiga model mesin vektor dukungan (SVM) dengan kernel fungsi basis radial (RBF). Model dilatih menggunakan set pelatihan, dan kinerjanya dievaluasi menggunakan set pengujian.\n",
        "\n",
        "Kode kemudian mencetak akurasi, skor latih, dan skor tes dari masing-masing model. Akurasi adalah persentase pasien yang diklasifikasikan dengan benar oleh model. Skor kereta adalah keakuratan model pada perangkat pelatihan, dan skor pengujian adalah keakuratan model pada perangkat pengujian.\n",
        "\n",
        "Kode kemudian membuat matriks kebingungan untuk setiap model. Confusion matrix adalah tabel yang menunjukkan jumlah true positive, false positive, true negative, dan false negative untuk model klasifikasi. True positive adalah pasien yang benar diklasifikasikan memiliki penyakit ginjal, false positive adalah pasien yang salah diklasifikasikan memiliki penyakit ginjal, true negative adalah pasien yang benar diklasifikasikan sebagai tidak memiliki penyakit ginjal, dan false negative adalah pasien yang salah diklasifikasikan sebagai tidak memiliki penyakit ginjal.\n",
        "\n",
        "Kode kemudian menghasilkan peta panas dari setiap matriks kebingungan. Peta panas adalah representasi grafis dari data di mana nilainya diwakili oleh warna. Warna pada heatmap menunjukkan jumlah pasien di setiap kategori.\n",
        "\n",
        "Kode kemudian mencetak laporan klasifikasi untuk setiap model. Laporan klasifikasi adalah tabel yang menunjukkan presisi, daya ingat, skor f1, dan dukungan untuk setiap kelas. Presisi adalah persentase pasien yang diklasifikasikan dengan benar memiliki penyakit ginjal dari semua pasien yang diprediksi memiliki penyakit ginjal. Recall adalah persentase pasien yang benar diklasifikasikan memiliki penyakit ginjal dari semua pasien yang benar-benar memiliki penyakit ginjal. F1-score adalah rata-rata tertimbang dari presisi dan daya ingat. Support adalah jumlah pasien pada setiap kelas.\n",
        "\n",
        "Kode menunjukkan bahwa model SVM dengan kernel RBF mampu mengklasifikasikan sebagian besar pasien dengan benar. Keakuratan modelnya tinggi, dan matriks kebingungan menunjukkan bahwa model tersebut mampu mengklasifikasikan pasien dengan benar di setiap kategori. Laporan klasifikasi menunjukkan bahwa model memiliki skor presisi, daya ingat, dan f1 yang tinggi.\n",
        "\n",
        "Kode juga menunjukkan bahwa akurasi model meningkat seiring dengan meningkatnya persentase data yang digunakan untuk pelatihan. Ini karena model memiliki lebih banyak data untuk dipelajari saat dilatih pada kumpulan data yang lebih besar.\n",
        "\n",
        "Secara keseluruhan, kode tersebut menunjukkan bahwa model SVM dengan kernel RBF adalah pilihan yang baik untuk mengklasifikasikan pasien dengan penyakit ginjal. Model dapat mengklasifikasikan sebagian besar pasien dengan benar, dan akurasinya meningkat seiring dengan meningkatnya persentase data yang digunakan untuk pelatihan."
      ],
      "metadata": {
        "id": "s2vMgggV2HHS"
      }
    },
    {
      "cell_type": "markdown",
      "metadata": {
        "papermill": {
          "duration": 0.06191,
          "end_time": "2021-01-08T12:19:51.605515",
          "exception": false,
          "start_time": "2021-01-08T12:19:51.543605",
          "status": "completed"
        },
        "tags": [],
        "id": "JeDYdX-N1XLm"
      },
      "source": [
        "## Random Forest classification"
      ]
    },
    {
      "cell_type": "code",
      "execution_count": null,
      "metadata": {
        "execution": {
          "iopub.execute_input": "2021-01-08T12:19:51.734288Z",
          "iopub.status.busy": "2021-01-08T12:19:51.733526Z",
          "iopub.status.idle": "2021-01-08T12:19:51.763745Z",
          "shell.execute_reply": "2021-01-08T12:19:51.764313Z"
        },
        "papermill": {
          "duration": 0.096733,
          "end_time": "2021-01-08T12:19:51.764465",
          "exception": false,
          "start_time": "2021-01-08T12:19:51.667732",
          "status": "completed"
        },
        "tags": [],
        "colab": {
          "base_uri": "https://localhost:8080/",
          "height": 74
        },
        "id": "KzK3tYs61XLm",
        "outputId": "fe16c5ce-9cc0-479c-8a59-c3ae8391de33"
      },
      "outputs": [
        {
          "output_type": "execute_result",
          "data": {
            "text/plain": [
              "RandomForestClassifier(criterion='entropy', n_estimators=10, random_state=0)"
            ],
            "text/html": [
              "<style>#sk-container-id-3 {color: black;background-color: white;}#sk-container-id-3 pre{padding: 0;}#sk-container-id-3 div.sk-toggleable {background-color: white;}#sk-container-id-3 label.sk-toggleable__label {cursor: pointer;display: block;width: 100%;margin-bottom: 0;padding: 0.3em;box-sizing: border-box;text-align: center;}#sk-container-id-3 label.sk-toggleable__label-arrow:before {content: \"▸\";float: left;margin-right: 0.25em;color: #696969;}#sk-container-id-3 label.sk-toggleable__label-arrow:hover:before {color: black;}#sk-container-id-3 div.sk-estimator:hover label.sk-toggleable__label-arrow:before {color: black;}#sk-container-id-3 div.sk-toggleable__content {max-height: 0;max-width: 0;overflow: hidden;text-align: left;background-color: #f0f8ff;}#sk-container-id-3 div.sk-toggleable__content pre {margin: 0.2em;color: black;border-radius: 0.25em;background-color: #f0f8ff;}#sk-container-id-3 input.sk-toggleable__control:checked~div.sk-toggleable__content {max-height: 200px;max-width: 100%;overflow: auto;}#sk-container-id-3 input.sk-toggleable__control:checked~label.sk-toggleable__label-arrow:before {content: \"▾\";}#sk-container-id-3 div.sk-estimator input.sk-toggleable__control:checked~label.sk-toggleable__label {background-color: #d4ebff;}#sk-container-id-3 div.sk-label input.sk-toggleable__control:checked~label.sk-toggleable__label {background-color: #d4ebff;}#sk-container-id-3 input.sk-hidden--visually {border: 0;clip: rect(1px 1px 1px 1px);clip: rect(1px, 1px, 1px, 1px);height: 1px;margin: -1px;overflow: hidden;padding: 0;position: absolute;width: 1px;}#sk-container-id-3 div.sk-estimator {font-family: monospace;background-color: #f0f8ff;border: 1px dotted black;border-radius: 0.25em;box-sizing: border-box;margin-bottom: 0.5em;}#sk-container-id-3 div.sk-estimator:hover {background-color: #d4ebff;}#sk-container-id-3 div.sk-parallel-item::after {content: \"\";width: 100%;border-bottom: 1px solid gray;flex-grow: 1;}#sk-container-id-3 div.sk-label:hover label.sk-toggleable__label {background-color: #d4ebff;}#sk-container-id-3 div.sk-serial::before {content: \"\";position: absolute;border-left: 1px solid gray;box-sizing: border-box;top: 0;bottom: 0;left: 50%;z-index: 0;}#sk-container-id-3 div.sk-serial {display: flex;flex-direction: column;align-items: center;background-color: white;padding-right: 0.2em;padding-left: 0.2em;position: relative;}#sk-container-id-3 div.sk-item {position: relative;z-index: 1;}#sk-container-id-3 div.sk-parallel {display: flex;align-items: stretch;justify-content: center;background-color: white;position: relative;}#sk-container-id-3 div.sk-item::before, #sk-container-id-3 div.sk-parallel-item::before {content: \"\";position: absolute;border-left: 1px solid gray;box-sizing: border-box;top: 0;bottom: 0;left: 50%;z-index: -1;}#sk-container-id-3 div.sk-parallel-item {display: flex;flex-direction: column;z-index: 1;position: relative;background-color: white;}#sk-container-id-3 div.sk-parallel-item:first-child::after {align-self: flex-end;width: 50%;}#sk-container-id-3 div.sk-parallel-item:last-child::after {align-self: flex-start;width: 50%;}#sk-container-id-3 div.sk-parallel-item:only-child::after {width: 0;}#sk-container-id-3 div.sk-dashed-wrapped {border: 1px dashed gray;margin: 0 0.4em 0.5em 0.4em;box-sizing: border-box;padding-bottom: 0.4em;background-color: white;}#sk-container-id-3 div.sk-label label {font-family: monospace;font-weight: bold;display: inline-block;line-height: 1.2em;}#sk-container-id-3 div.sk-label-container {text-align: center;}#sk-container-id-3 div.sk-container {/* jupyter's `normalize.less` sets `[hidden] { display: none; }` but bootstrap.min.css set `[hidden] { display: none !important; }` so we also need the `!important` here to be able to override the default hidden behavior on the sphinx rendered scikit-learn.org. See: https://github.com/scikit-learn/scikit-learn/issues/21755 */display: inline-block !important;position: relative;}#sk-container-id-3 div.sk-text-repr-fallback {display: none;}</style><div id=\"sk-container-id-3\" class=\"sk-top-container\"><div class=\"sk-text-repr-fallback\"><pre>RandomForestClassifier(criterion=&#x27;entropy&#x27;, n_estimators=10, random_state=0)</pre><b>In a Jupyter environment, please rerun this cell to show the HTML representation or trust the notebook. <br />On GitHub, the HTML representation is unable to render, please try loading this page with nbviewer.org.</b></div><div class=\"sk-container\" hidden><div class=\"sk-item\"><div class=\"sk-estimator sk-toggleable\"><input class=\"sk-toggleable__control sk-hidden--visually\" id=\"sk-estimator-id-3\" type=\"checkbox\" checked><label for=\"sk-estimator-id-3\" class=\"sk-toggleable__label sk-toggleable__label-arrow\">RandomForestClassifier</label><div class=\"sk-toggleable__content\"><pre>RandomForestClassifier(criterion=&#x27;entropy&#x27;, n_estimators=10, random_state=0)</pre></div></div></div></div></div>"
            ]
          },
          "metadata": {},
          "execution_count": 31
        }
      ],
      "source": [
        "#fitting Random Forest classification ke training set\n",
        "rfc1 = RandomForestClassifier(n_estimators=10 , criterion='entropy',random_state=0)\n",
        "rfc1.fit(X_train1,y_train1)\n",
        "rfc2 = RandomForestClassifier(n_estimators=10 , criterion='entropy',random_state=0)\n",
        "rfc2.fit(X_train2,y_train2)\n",
        "rfc3 = RandomForestClassifier(n_estimators=10 , criterion='entropy',random_state=0)\n",
        "rfc3.fit(X_train3,y_train3)"
      ]
    },
    {
      "cell_type": "code",
      "execution_count": null,
      "metadata": {
        "execution": {
          "iopub.execute_input": "2021-01-08T12:19:51.896431Z",
          "iopub.status.busy": "2021-01-08T12:19:51.895640Z",
          "iopub.status.idle": "2021-01-08T12:19:51.901471Z",
          "shell.execute_reply": "2021-01-08T12:19:51.901987Z"
        },
        "papermill": {
          "duration": 0.073152,
          "end_time": "2021-01-08T12:19:51.902142",
          "exception": false,
          "start_time": "2021-01-08T12:19:51.828990",
          "status": "completed"
        },
        "tags": [],
        "id": "xnpb9vPd1XLn"
      },
      "outputs": [],
      "source": [
        "#memprediksi hasil tes\n",
        "y_pred_rfc1 = rfc1.predict(X_test1)\n",
        "y_pred_rfc2 = rfc2.predict(X_test2)\n",
        "y_pred_rfc3 = rfc3.predict(X_test3)"
      ]
    },
    {
      "cell_type": "code",
      "execution_count": null,
      "metadata": {
        "execution": {
          "iopub.execute_input": "2021-01-08T12:19:52.035146Z",
          "iopub.status.busy": "2021-01-08T12:19:52.033871Z",
          "iopub.status.idle": "2021-01-08T12:19:52.039478Z",
          "shell.execute_reply": "2021-01-08T12:19:52.040156Z"
        },
        "papermill": {
          "duration": 0.074439,
          "end_time": "2021-01-08T12:19:52.040308",
          "exception": false,
          "start_time": "2021-01-08T12:19:51.965869",
          "status": "completed"
        },
        "tags": [],
        "colab": {
          "base_uri": "https://localhost:8080/"
        },
        "id": "3bZLRVEG1XLn",
        "outputId": "21700d25-d7f4-4a6b-ebb5-b1b85c8ceb31"
      },
      "outputs": [
        {
          "output_type": "execute_result",
          "data": {
            "text/plain": [
              "0.9916666666666667"
            ]
          },
          "metadata": {},
          "execution_count": 33
        }
      ],
      "source": [
        "#menghitung accuracy\n",
        "score_rfc1 = accuracy_score(y_pred_rfc1,y_test1)\n",
        "score_rfc1\n",
        "score_rfc2 = accuracy_score(y_pred_rfc2,y_test2)\n",
        "score_rfc2\n",
        "score_rfc3 = accuracy_score(y_pred_rfc3,y_test3)\n",
        "score_rfc3"
      ]
    },
    {
      "cell_type": "code",
      "execution_count": null,
      "metadata": {
        "execution": {
          "iopub.execute_input": "2021-01-08T12:19:52.173396Z",
          "iopub.status.busy": "2021-01-08T12:19:52.172449Z",
          "iopub.status.idle": "2021-01-08T12:19:52.184547Z",
          "shell.execute_reply": "2021-01-08T12:19:52.185060Z"
        },
        "papermill": {
          "duration": 0.079201,
          "end_time": "2021-01-08T12:19:52.185213",
          "exception": false,
          "start_time": "2021-01-08T12:19:52.106012",
          "status": "completed"
        },
        "tags": [],
        "colab": {
          "base_uri": "https://localhost:8080/"
        },
        "id": "wc4fNs9O1XLn",
        "outputId": "6a5cbbb7-032a-4d23-89a2-c7d01f2a99a5"
      },
      "outputs": [
        {
          "output_type": "stream",
          "name": "stdout",
          "text": [
            "train score - 1.0\n",
            "test score - 0.9875\n",
            "train score - 0.9966666666666667\n",
            "test score - 0.98\n",
            "train score - 1.0\n",
            "test score - 0.9916666666666667\n"
          ]
        }
      ],
      "source": [
        "print(\"train score - \" + str(rfc1.score(X_train1, y_train1)))\n",
        "print(\"test score - \" + str(rfc1.score(X_test1, y_test1)))\n",
        "print(\"train score - \" + str(rfc2.score(X_train2, y_train2)))\n",
        "print(\"test score - \" + str(rfc2.score(X_test2, y_test2)))\n",
        "print(\"train score - \" + str(rfc3.score(X_train3, y_train3)))\n",
        "print(\"test score - \" + str(rfc3.score(X_test3, y_test3)))"
      ]
    },
    {
      "cell_type": "code",
      "execution_count": null,
      "metadata": {
        "execution": {
          "iopub.execute_input": "2021-01-08T12:19:52.321084Z",
          "iopub.status.busy": "2021-01-08T12:19:52.320375Z",
          "iopub.status.idle": "2021-01-08T12:19:52.518000Z",
          "shell.execute_reply": "2021-01-08T12:19:52.518486Z"
        },
        "papermill": {
          "duration": 0.269038,
          "end_time": "2021-01-08T12:19:52.518658",
          "exception": false,
          "start_time": "2021-01-08T12:19:52.249620",
          "status": "completed"
        },
        "tags": [],
        "colab": {
          "base_uri": "https://localhost:8080/",
          "height": 1000
        },
        "id": "SuoBJVgE1XLn",
        "outputId": "d14e7a89-ef18-4f98-be7c-ebe65a4bc816"
      },
      "outputs": [
        {
          "output_type": "display_data",
          "data": {
            "text/plain": [
              "<Figure size 640x480 with 2 Axes>"
            ],
            "image/png": "[encoded data removed]"
          },
          "metadata": {}
        },
        {
          "output_type": "display_data",
          "data": {
            "text/plain": [
              "<Figure size 640x480 with 2 Axes>"
            ],
            "image/png": "[encoded data removed]"
          },
          "metadata": {}
        },
        {
          "output_type": "display_data",
          "data": {
            "text/plain": [
              "<Figure size 640x480 with 2 Axes>"
            ],
            "image/png": "[encoded data removed]"
          },
          "metadata": {}
        }
      ],
      "source": [
        "#Membuat Confusion Matrix\n",
        "\n",
        "cm1 = confusion_matrix(y_test1, y_pred_rfc1)\n",
        "sns.set(font_scale=1.4)\n",
        "fig1, ax1 = plt.subplots()\n",
        "sns.heatmap(cm1, annot=True, annot_kws={\"size\": 16}, ax=ax1)\n",
        "ax1.set_title('Confusion Matrix 0.2')\n",
        "\n",
        "\n",
        "cm2 = confusion_matrix(y_test2, y_pred_rfc2)\n",
        "sns.set(font_scale=1.4)\n",
        "fig2, ax2 = plt.subplots()\n",
        "sns.heatmap(cm2, annot=True, annot_kws={\"size\": 16}, ax=ax2)\n",
        "ax2.set_title('Confusion Matrix 0.25')\n",
        "\n",
        "\n",
        "cm3 = confusion_matrix(y_test3, y_pred_rfc3)\n",
        "sns.set(font_scale=1.4)\n",
        "fig3, ax3 = plt.subplots()\n",
        "sns.heatmap(cm3, annot=True, annot_kws={\"size\": 16}, ax=ax3)\n",
        "ax3.set_title('Confusion Matrix 0.3')\n",
        "\n",
        "plt.show()\n",
        "\n"
      ]
    },
    {
      "cell_type": "code",
      "execution_count": null,
      "metadata": {
        "execution": {
          "iopub.execute_input": "2021-01-08T12:19:52.658134Z",
          "iopub.status.busy": "2021-01-08T12:19:52.657412Z",
          "iopub.status.idle": "2021-01-08T12:19:52.669397Z",
          "shell.execute_reply": "2021-01-08T12:19:52.668805Z"
        },
        "papermill": {
          "duration": 0.084791,
          "end_time": "2021-01-08T12:19:52.669517",
          "exception": false,
          "start_time": "2021-01-08T12:19:52.584726",
          "status": "completed"
        },
        "tags": [],
        "colab": {
          "base_uri": "https://localhost:8080/"
        },
        "id": "sbjlJJgt1XLo",
        "outputId": "aa3335a4-44e7-4a1a-bf8b-cb45ca78f0e0"
      },
      "outputs": [
        {
          "output_type": "stream",
          "name": "stdout",
          "text": [
            "              precision    recall  f1-score   support\n",
            "\n",
            "           0       0.96      1.00      0.98        27\n",
            "           1       1.00      0.98      0.99        53\n",
            "\n",
            "    accuracy                           0.99        80\n",
            "   macro avg       0.98      0.99      0.99        80\n",
            "weighted avg       0.99      0.99      0.99        80\n",
            "\n",
            "              precision    recall  f1-score   support\n",
            "\n",
            "           0       0.95      1.00      0.97        35\n",
            "           1       1.00      0.97      0.98        65\n",
            "\n",
            "    accuracy                           0.98       100\n",
            "   macro avg       0.97      0.98      0.98       100\n",
            "weighted avg       0.98      0.98      0.98       100\n",
            "\n",
            "              precision    recall  f1-score   support\n",
            "\n",
            "           0       0.98      1.00      0.99        42\n",
            "           1       1.00      0.99      0.99        78\n",
            "\n",
            "    accuracy                           0.99       120\n",
            "   macro avg       0.99      0.99      0.99       120\n",
            "weighted avg       0.99      0.99      0.99       120\n",
            "\n"
          ]
        }
      ],
      "source": [
        "print(classification_report(y_test1, y_pred_rfc1))\n",
        "print(classification_report(y_test2, y_pred_rfc2))\n",
        "print(classification_report(y_test3, y_pred_rfc3))"
      ]
    },
    {
      "cell_type": "markdown",
      "source": [
        "Kode pertama membuat tiga model klasifikasi hutan acak dengan masing-masing 10 pohon keputusan. Model dilatih menggunakan set pelatihan, dan kinerjanya dievaluasi menggunakan set pengujian.\n",
        "\n",
        "Kode kemudian mencetak akurasi, skor latih, dan skor tes dari masing-masing model. Akurasi adalah persentase pasien yang diklasifikasikan dengan benar oleh model. Skor kereta adalah keakuratan model pada perangkat pelatihan, dan skor pengujian adalah keakuratan model pada perangkat pengujian.\n",
        "\n",
        "Kode kemudian membuat matriks kebingungan untuk setiap model. Confusion matrix adalah tabel yang menunjukkan jumlah true positive, false positive, true negative, dan false negative untuk model klasifikasi. True positive adalah pasien yang benar diklasifikasikan memiliki penyakit ginjal, false positive adalah pasien yang salah diklasifikasikan memiliki penyakit ginjal, true negative adalah pasien yang benar diklasifikasikan sebagai tidak memiliki penyakit ginjal, dan false negative adalah pasien yang salah diklasifikasikan sebagai tidak memiliki penyakit ginjal.\n",
        "\n",
        "Kode kemudian menghasilkan peta panas dari setiap matriks kebingungan. Peta panas adalah representasi grafis dari data di mana nilainya diwakili oleh warna. Warna pada heatmap menunjukkan jumlah pasien di setiap kategori.\n",
        "\n",
        "Kode kemudian mencetak laporan klasifikasi untuk setiap model. Laporan klasifikasi adalah tabel yang menunjukkan presisi, daya ingat, skor f1, dan dukungan untuk setiap kelas. Presisi adalah persentase pasien yang diklasifikasikan dengan benar memiliki penyakit ginjal dari semua pasien yang diprediksi memiliki penyakit ginjal. Recall adalah persentase pasien yang benar diklasifikasikan memiliki penyakit ginjal dari semua pasien yang benar-benar memiliki penyakit ginjal. F1-score adalah rata-rata tertimbang dari presisi dan daya ingat. Support adalah jumlah pasien pada setiap kelas.\n",
        "\n",
        "Kode tersebut menunjukkan bahwa model klasifikasi hutan acak mampu mengklasifikasikan sebagian besar pasien dengan benar. Keakuratan modelnya tinggi, dan matriks kebingungan menunjukkan bahwa model tersebut mampu mengklasifikasikan pasien dengan benar di setiap kategori. Laporan klasifikasi menunjukkan bahwa model memiliki skor presisi, daya ingat, dan f1 yang tinggi.\n",
        "\n",
        "Kode juga menunjukkan bahwa akurasi model meningkat seiring dengan meningkatnya persentase data yang digunakan untuk pelatihan. Ini karena model memiliki lebih banyak data untuk dipelajari saat dilatih pada kumpulan data yang lebih besar.\n",
        "\n",
        "Secara keseluruhan, kode tersebut menunjukkan bahwa model klasifikasi hutan acak adalah pilihan yang baik untuk mengklasifikasikan pasien dengan penyakit ginjal. Model dapat mengklasifikasikan sebagian besar pasien dengan benar, dan akurasinya meningkat seiring dengan meningkatnya persentase data yang digunakan untuk pelatihan."
      ],
      "metadata": {
        "id": "hjwmFd4taz30"
      }
    },
    {
      "cell_type": "markdown",
      "source": [
        "##Kesimpulan\n"
      ],
      "metadata": {
        "id": "Iif1EpQ_a1T1"
      }
    },
    {
      "cell_type": "markdown",
      "source": [
        "- SVM dan Kernel SVM menggunakan pendekatan pembelajaran berbasis margin untuk pemisahan kelas dan generalisasi, sementara Random Forest menggunakan pendekatan ensemble learning dengan membangun pohon-pohon keputusan independen.\n",
        "- Kernel SVM khususnya efektif dalam menangani data yang tidak linier, sementara SVM biasa cenderung lebih cocok untuk data linier.\n",
        "- Random Forest dapat menangani data dengan fitur yang banyak dan mampu memberikan estimasi pentingnya fitur-fitur tersebut, sementara SVM dan Kernel SVM cenderung lebih efektif dalam kasus data dengan jumlah fitur yang lebih sedikit."
      ],
      "metadata": {
        "id": "AmYYRegnZ9Tt"
      }
    }
  ],
  "metadata": {
    "kernelspec": {
      "display_name": "Python 3",
      "language": "python",
      "name": "python3"
    },
    "language_info": {
      "codemirror_mode": {
        "name": "ipython",
        "version": 3
      },
      "file_extension": ".py",
      "mimetype": "text/x-python",
      "name": "python",
      "nbconvert_exporter": "python",
      "pygments_lexer": "ipython3",
      "version": "3.7.6"
    },
    "papermill": {
      "duration": 17.065472,
      "end_time": "2021-01-08T12:19:54.066115",
      "environment_variables": {},
      "exception": null,
      "input_path": "__notebook__.ipynb",
      "output_path": "__notebook__.ipynb",
      "parameters": {},
      "start_time": "2021-01-08T12:19:37.000643",
      "version": "2.1.0"
    },
    "colab": {
      "provenance": []
    }
  },
  "nbformat": 4,
  "nbformat_minor": 0
}